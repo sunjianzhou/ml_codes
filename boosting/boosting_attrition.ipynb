{
 "cells": [
  {
   "cell_type": "code",
   "execution_count": 1,
   "metadata": {
    "collapsed": false
   },
   "outputs": [],
   "source": [
    "import os\n",
    "import time\n",
    "import pandas as pd\n",
    "from sklearn.preprocessing import LabelEncoder\n",
    "from sklearn.model_selection import train_test_split"
   ]
  },
  {
   "cell_type": "code",
   "execution_count": 2,
   "metadata": {
    "collapsed": true
   },
   "outputs": [],
   "source": [
    "# 1、加载数据，包括训练集和测试集\n",
    "cur_path = os.getcwd() + os.sep\n",
    "train_path = cur_path + \"train.csv\"\n",
    "test_path = cur_path + \"test.csv\"\n",
    "train_data = pd.read_csv(train_path)\n",
    "test_data = pd.read_csv(test_path)"
   ]
  },
  {
   "cell_type": "code",
   "execution_count": 3,
   "metadata": {
    "collapsed": false
   },
   "outputs": [
    {
     "data": {
      "text/html": [
       "<div>\n",
       "<style scoped>\n",
       "    .dataframe tbody tr th:only-of-type {\n",
       "        vertical-align: middle;\n",
       "    }\n",
       "\n",
       "    .dataframe tbody tr th {\n",
       "        vertical-align: top;\n",
       "    }\n",
       "\n",
       "    .dataframe thead th {\n",
       "        text-align: right;\n",
       "    }\n",
       "</style>\n",
       "<table border=\"1\" class=\"dataframe\">\n",
       "  <thead>\n",
       "    <tr style=\"text-align: right;\">\n",
       "      <th></th>\n",
       "      <th>user_id</th>\n",
       "      <th>Age</th>\n",
       "      <th>Attrition</th>\n",
       "      <th>BusinessTravel</th>\n",
       "      <th>DailyRate</th>\n",
       "      <th>Department</th>\n",
       "      <th>DistanceFromHome</th>\n",
       "      <th>Education</th>\n",
       "      <th>EducationField</th>\n",
       "      <th>EmployeeCount</th>\n",
       "      <th>...</th>\n",
       "      <th>RelationshipSatisfaction</th>\n",
       "      <th>StandardHours</th>\n",
       "      <th>StockOptionLevel</th>\n",
       "      <th>TotalWorkingYears</th>\n",
       "      <th>TrainingTimesLastYear</th>\n",
       "      <th>WorkLifeBalance</th>\n",
       "      <th>YearsAtCompany</th>\n",
       "      <th>YearsInCurrentRole</th>\n",
       "      <th>YearsSinceLastPromotion</th>\n",
       "      <th>YearsWithCurrManager</th>\n",
       "    </tr>\n",
       "  </thead>\n",
       "  <tbody>\n",
       "    <tr>\n",
       "      <th>0</th>\n",
       "      <td>1374</td>\n",
       "      <td>58</td>\n",
       "      <td>No</td>\n",
       "      <td>Travel_Rarely</td>\n",
       "      <td>605</td>\n",
       "      <td>Sales</td>\n",
       "      <td>21</td>\n",
       "      <td>3</td>\n",
       "      <td>Life Sciences</td>\n",
       "      <td>1</td>\n",
       "      <td>...</td>\n",
       "      <td>3</td>\n",
       "      <td>80</td>\n",
       "      <td>1</td>\n",
       "      <td>29</td>\n",
       "      <td>2</td>\n",
       "      <td>2</td>\n",
       "      <td>1</td>\n",
       "      <td>0</td>\n",
       "      <td>0</td>\n",
       "      <td>0</td>\n",
       "    </tr>\n",
       "    <tr>\n",
       "      <th>1</th>\n",
       "      <td>1092</td>\n",
       "      <td>45</td>\n",
       "      <td>No</td>\n",
       "      <td>Travel_Rarely</td>\n",
       "      <td>950</td>\n",
       "      <td>Research &amp; Development</td>\n",
       "      <td>28</td>\n",
       "      <td>3</td>\n",
       "      <td>Technical Degree</td>\n",
       "      <td>1</td>\n",
       "      <td>...</td>\n",
       "      <td>4</td>\n",
       "      <td>80</td>\n",
       "      <td>1</td>\n",
       "      <td>8</td>\n",
       "      <td>3</td>\n",
       "      <td>3</td>\n",
       "      <td>5</td>\n",
       "      <td>4</td>\n",
       "      <td>0</td>\n",
       "      <td>3</td>\n",
       "    </tr>\n",
       "    <tr>\n",
       "      <th>2</th>\n",
       "      <td>768</td>\n",
       "      <td>40</td>\n",
       "      <td>No</td>\n",
       "      <td>Travel_Rarely</td>\n",
       "      <td>300</td>\n",
       "      <td>Sales</td>\n",
       "      <td>26</td>\n",
       "      <td>3</td>\n",
       "      <td>Marketing</td>\n",
       "      <td>1</td>\n",
       "      <td>...</td>\n",
       "      <td>2</td>\n",
       "      <td>80</td>\n",
       "      <td>1</td>\n",
       "      <td>8</td>\n",
       "      <td>3</td>\n",
       "      <td>2</td>\n",
       "      <td>7</td>\n",
       "      <td>7</td>\n",
       "      <td>7</td>\n",
       "      <td>5</td>\n",
       "    </tr>\n",
       "    <tr>\n",
       "      <th>3</th>\n",
       "      <td>569</td>\n",
       "      <td>36</td>\n",
       "      <td>No</td>\n",
       "      <td>Non-Travel</td>\n",
       "      <td>1434</td>\n",
       "      <td>Sales</td>\n",
       "      <td>8</td>\n",
       "      <td>4</td>\n",
       "      <td>Life Sciences</td>\n",
       "      <td>1</td>\n",
       "      <td>...</td>\n",
       "      <td>2</td>\n",
       "      <td>80</td>\n",
       "      <td>0</td>\n",
       "      <td>10</td>\n",
       "      <td>1</td>\n",
       "      <td>3</td>\n",
       "      <td>10</td>\n",
       "      <td>7</td>\n",
       "      <td>0</td>\n",
       "      <td>9</td>\n",
       "    </tr>\n",
       "    <tr>\n",
       "      <th>4</th>\n",
       "      <td>911</td>\n",
       "      <td>25</td>\n",
       "      <td>Yes</td>\n",
       "      <td>Travel_Frequently</td>\n",
       "      <td>599</td>\n",
       "      <td>Sales</td>\n",
       "      <td>24</td>\n",
       "      <td>1</td>\n",
       "      <td>Life Sciences</td>\n",
       "      <td>1</td>\n",
       "      <td>...</td>\n",
       "      <td>4</td>\n",
       "      <td>80</td>\n",
       "      <td>0</td>\n",
       "      <td>1</td>\n",
       "      <td>4</td>\n",
       "      <td>3</td>\n",
       "      <td>1</td>\n",
       "      <td>0</td>\n",
       "      <td>1</td>\n",
       "      <td>0</td>\n",
       "    </tr>\n",
       "  </tbody>\n",
       "</table>\n",
       "<p>5 rows × 36 columns</p>\n",
       "</div>"
      ],
      "text/plain": [
       "   user_id  Age Attrition     BusinessTravel  DailyRate  \\\n",
       "0     1374   58        No      Travel_Rarely        605   \n",
       "1     1092   45        No      Travel_Rarely        950   \n",
       "2      768   40        No      Travel_Rarely        300   \n",
       "3      569   36        No         Non-Travel       1434   \n",
       "4      911   25       Yes  Travel_Frequently        599   \n",
       "\n",
       "               Department  DistanceFromHome  Education    EducationField  \\\n",
       "0                   Sales                21          3     Life Sciences   \n",
       "1  Research & Development                28          3  Technical Degree   \n",
       "2                   Sales                26          3         Marketing   \n",
       "3                   Sales                 8          4     Life Sciences   \n",
       "4                   Sales                24          1     Life Sciences   \n",
       "\n",
       "   EmployeeCount  ...  RelationshipSatisfaction  StandardHours  \\\n",
       "0              1  ...                         3             80   \n",
       "1              1  ...                         4             80   \n",
       "2              1  ...                         2             80   \n",
       "3              1  ...                         2             80   \n",
       "4              1  ...                         4             80   \n",
       "\n",
       "  StockOptionLevel  TotalWorkingYears  TrainingTimesLastYear  WorkLifeBalance  \\\n",
       "0                1                 29                      2                2   \n",
       "1                1                  8                      3                3   \n",
       "2                1                  8                      3                2   \n",
       "3                0                 10                      1                3   \n",
       "4                0                  1                      4                3   \n",
       "\n",
       "  YearsAtCompany  YearsInCurrentRole YearsSinceLastPromotion  \\\n",
       "0              1                   0                       0   \n",
       "1              5                   4                       0   \n",
       "2              7                   7                       7   \n",
       "3             10                   7                       0   \n",
       "4              1                   0                       1   \n",
       "\n",
       "   YearsWithCurrManager  \n",
       "0                     0  \n",
       "1                     3  \n",
       "2                     5  \n",
       "3                     9  \n",
       "4                     0  \n",
       "\n",
       "[5 rows x 36 columns]"
      ]
     },
     "execution_count": 3,
     "metadata": {},
     "output_type": "execute_result"
    }
   ],
   "source": [
    "# 2、简单看看数据，展示不全，可以上excel看\n",
    "train_data.head(5)"
   ]
  },
  {
   "cell_type": "code",
   "execution_count": 4,
   "metadata": {
    "collapsed": false
   },
   "outputs": [
    {
     "name": "stdout",
     "output_type": "stream",
     "text": [
      "{'WorkLifeBalance': 0, 'MaritalStatus': 0, 'user_id': 0, 'TrainingTimesLastYear': 0, 'Gender': 0, 'YearsInCurrentRole': 0, 'EducationField': 0, 'YearsWithCurrManager': 0, 'EmployeeNumber': 0, 'JobRole': 0, 'NumCompaniesWorked': 0, 'MonthlyRate': 0, 'RelationshipSatisfaction': 0, 'HourlyRate': 0, 'Department': 0, 'PercentSalaryHike': 0, 'OverTime': 0, 'Attrition': 0, 'JobSatisfaction': 0, 'Age': 0, 'DistanceFromHome': 0, 'YearsAtCompany': 0, 'JobInvolvement': 0, 'Education': 0, 'DailyRate': 0, 'JobLevel': 0, 'EmployeeCount': 0, 'BusinessTravel': 0, 'PerformanceRating': 0, 'TotalWorkingYears': 0, 'YearsSinceLastPromotion': 0, 'EnvironmentSatisfaction': 0, 'StockOptionLevel': 0, 'StandardHours': 0, 'Over18': 0, 'MonthlyIncome': 0}\n"
     ]
    }
   ],
   "source": [
    "# 3、简单分析数据缺失情况\n",
    "def get_na_rate(data_df): \n",
    "    column_list = data_df.columns\n",
    "    na_rate_dict = dict()\n",
    "    for column in column_list:\n",
    "        na_rate_dict.update({column:data_df[column].isna().sum()})\n",
    "    return na_rate_dict\n",
    "\n",
    "print(get_na_rate(train_data))"
   ]
  },
  {
   "cell_type": "code",
   "execution_count": 5,
   "metadata": {
    "collapsed": false
   },
   "outputs": [
    {
     "name": "stdout",
     "output_type": "stream",
     "text": [
      "{'Department': (3, 0.002551020408163265), 'OverTime': (2, 0.0017006802721088435), 'BusinessTravel': (3, 0.002551020408163265), 'JobRole': (9, 0.007653061224489796), 'MaritalStatus': (3, 0.002551020408163265), 'Gender': (2, 0.0017006802721088435), 'Attrition': (2, 0.0017006802721088435), 'EducationField': (6, 0.00510204081632653)}\n",
      "['user_id', 'EmployeeCount', 'EmployeeNumber', 'Over18', 'StandardHours']\n"
     ]
    }
   ],
   "source": [
    "# 4、看看哪些数据要做数值化处理\n",
    "# print(train_data.dtypes) # 看完以后简单归归类\n",
    "def get_obj_rate(data_df):\n",
    "    obj_rate_dict = dict()\n",
    "    useless_columns = list()\n",
    "    data_length = data_df.shape[0]\n",
    "    for column in data_df.columns:\n",
    "        unique_count = len(data_df[column].unique())\n",
    "        if unique_count == 1 or unique_count == data_length:\n",
    "            useless_columns.append(column)   # 找到明显无效的特征列\n",
    "            continue\n",
    "        if isinstance(data_df[column][0],str):\n",
    "            obj_rate_dict.update({column: (unique_count, unique_count/(1.0*data_length))})\n",
    "    return obj_rate_dict, useless_columns\n",
    "obj_rate_dict, useless_columns = get_obj_rate(train_data)\n",
    "print(obj_rate_dict)\n",
    "print(useless_columns)"
   ]
  },
  {
   "cell_type": "code",
   "execution_count": 6,
   "metadata": {
    "collapsed": true
   },
   "outputs": [],
   "source": [
    "# 5、对那些完全无效信息，先去除掉\n",
    "def remove_useless_data(data_df_train, data_df_test, useless_columns):\n",
    "    for column in useless_columns:\n",
    "        data_df_train.drop(column, axis=1, inplace=True)\n",
    "        data_df_test.drop(column, axis=1, inplace=True)\n",
    "        \n",
    "remove_useless_data(train_data, test_data, useless_columns)"
   ]
  },
  {
   "cell_type": "code",
   "execution_count": 7,
   "metadata": {
    "collapsed": false
   },
   "outputs": [
    {
     "data": {
      "text/html": [
       "<div>\n",
       "<style scoped>\n",
       "    .dataframe tbody tr th:only-of-type {\n",
       "        vertical-align: middle;\n",
       "    }\n",
       "\n",
       "    .dataframe tbody tr th {\n",
       "        vertical-align: top;\n",
       "    }\n",
       "\n",
       "    .dataframe thead th {\n",
       "        text-align: right;\n",
       "    }\n",
       "</style>\n",
       "<table border=\"1\" class=\"dataframe\">\n",
       "  <thead>\n",
       "    <tr style=\"text-align: right;\">\n",
       "      <th></th>\n",
       "      <th>Age</th>\n",
       "      <th>Attrition</th>\n",
       "      <th>BusinessTravel</th>\n",
       "      <th>DailyRate</th>\n",
       "      <th>Department</th>\n",
       "      <th>DistanceFromHome</th>\n",
       "      <th>Education</th>\n",
       "      <th>EducationField</th>\n",
       "      <th>EnvironmentSatisfaction</th>\n",
       "      <th>Gender</th>\n",
       "      <th>...</th>\n",
       "      <th>PerformanceRating</th>\n",
       "      <th>RelationshipSatisfaction</th>\n",
       "      <th>StockOptionLevel</th>\n",
       "      <th>TotalWorkingYears</th>\n",
       "      <th>TrainingTimesLastYear</th>\n",
       "      <th>WorkLifeBalance</th>\n",
       "      <th>YearsAtCompany</th>\n",
       "      <th>YearsInCurrentRole</th>\n",
       "      <th>YearsSinceLastPromotion</th>\n",
       "      <th>YearsWithCurrManager</th>\n",
       "    </tr>\n",
       "  </thead>\n",
       "  <tbody>\n",
       "    <tr>\n",
       "      <th>0</th>\n",
       "      <td>58</td>\n",
       "      <td>0</td>\n",
       "      <td>2</td>\n",
       "      <td>605</td>\n",
       "      <td>2</td>\n",
       "      <td>21</td>\n",
       "      <td>3</td>\n",
       "      <td>1</td>\n",
       "      <td>4</td>\n",
       "      <td>0</td>\n",
       "      <td>...</td>\n",
       "      <td>3</td>\n",
       "      <td>3</td>\n",
       "      <td>1</td>\n",
       "      <td>29</td>\n",
       "      <td>2</td>\n",
       "      <td>2</td>\n",
       "      <td>1</td>\n",
       "      <td>0</td>\n",
       "      <td>0</td>\n",
       "      <td>0</td>\n",
       "    </tr>\n",
       "    <tr>\n",
       "      <th>1</th>\n",
       "      <td>45</td>\n",
       "      <td>0</td>\n",
       "      <td>2</td>\n",
       "      <td>950</td>\n",
       "      <td>1</td>\n",
       "      <td>28</td>\n",
       "      <td>3</td>\n",
       "      <td>5</td>\n",
       "      <td>4</td>\n",
       "      <td>1</td>\n",
       "      <td>...</td>\n",
       "      <td>4</td>\n",
       "      <td>4</td>\n",
       "      <td>1</td>\n",
       "      <td>8</td>\n",
       "      <td>3</td>\n",
       "      <td>3</td>\n",
       "      <td>5</td>\n",
       "      <td>4</td>\n",
       "      <td>0</td>\n",
       "      <td>3</td>\n",
       "    </tr>\n",
       "    <tr>\n",
       "      <th>2</th>\n",
       "      <td>40</td>\n",
       "      <td>0</td>\n",
       "      <td>2</td>\n",
       "      <td>300</td>\n",
       "      <td>2</td>\n",
       "      <td>26</td>\n",
       "      <td>3</td>\n",
       "      <td>2</td>\n",
       "      <td>3</td>\n",
       "      <td>1</td>\n",
       "      <td>...</td>\n",
       "      <td>3</td>\n",
       "      <td>2</td>\n",
       "      <td>1</td>\n",
       "      <td>8</td>\n",
       "      <td>3</td>\n",
       "      <td>2</td>\n",
       "      <td>7</td>\n",
       "      <td>7</td>\n",
       "      <td>7</td>\n",
       "      <td>5</td>\n",
       "    </tr>\n",
       "    <tr>\n",
       "      <th>3</th>\n",
       "      <td>36</td>\n",
       "      <td>0</td>\n",
       "      <td>0</td>\n",
       "      <td>1434</td>\n",
       "      <td>2</td>\n",
       "      <td>8</td>\n",
       "      <td>4</td>\n",
       "      <td>1</td>\n",
       "      <td>1</td>\n",
       "      <td>1</td>\n",
       "      <td>...</td>\n",
       "      <td>3</td>\n",
       "      <td>2</td>\n",
       "      <td>0</td>\n",
       "      <td>10</td>\n",
       "      <td>1</td>\n",
       "      <td>3</td>\n",
       "      <td>10</td>\n",
       "      <td>7</td>\n",
       "      <td>0</td>\n",
       "      <td>9</td>\n",
       "    </tr>\n",
       "    <tr>\n",
       "      <th>4</th>\n",
       "      <td>25</td>\n",
       "      <td>1</td>\n",
       "      <td>1</td>\n",
       "      <td>599</td>\n",
       "      <td>2</td>\n",
       "      <td>24</td>\n",
       "      <td>1</td>\n",
       "      <td>1</td>\n",
       "      <td>3</td>\n",
       "      <td>1</td>\n",
       "      <td>...</td>\n",
       "      <td>3</td>\n",
       "      <td>4</td>\n",
       "      <td>0</td>\n",
       "      <td>1</td>\n",
       "      <td>4</td>\n",
       "      <td>3</td>\n",
       "      <td>1</td>\n",
       "      <td>0</td>\n",
       "      <td>1</td>\n",
       "      <td>0</td>\n",
       "    </tr>\n",
       "  </tbody>\n",
       "</table>\n",
       "<p>5 rows × 31 columns</p>\n",
       "</div>"
      ],
      "text/plain": [
       "   Age  Attrition  BusinessTravel  DailyRate  Department  DistanceFromHome  \\\n",
       "0   58          0               2        605           2                21   \n",
       "1   45          0               2        950           1                28   \n",
       "2   40          0               2        300           2                26   \n",
       "3   36          0               0       1434           2                 8   \n",
       "4   25          1               1        599           2                24   \n",
       "\n",
       "   Education  EducationField  EnvironmentSatisfaction  Gender  ...  \\\n",
       "0          3               1                        4       0  ...   \n",
       "1          3               5                        4       1  ...   \n",
       "2          3               2                        3       1  ...   \n",
       "3          4               1                        1       1  ...   \n",
       "4          1               1                        3       1  ...   \n",
       "\n",
       "   PerformanceRating  RelationshipSatisfaction  StockOptionLevel  \\\n",
       "0                  3                         3                 1   \n",
       "1                  4                         4                 1   \n",
       "2                  3                         2                 1   \n",
       "3                  3                         2                 0   \n",
       "4                  3                         4                 0   \n",
       "\n",
       "   TotalWorkingYears  TrainingTimesLastYear  WorkLifeBalance  YearsAtCompany  \\\n",
       "0                 29                      2                2               1   \n",
       "1                  8                      3                3               5   \n",
       "2                  8                      3                2               7   \n",
       "3                 10                      1                3              10   \n",
       "4                  1                      4                3               1   \n",
       "\n",
       "   YearsInCurrentRole  YearsSinceLastPromotion  YearsWithCurrManager  \n",
       "0                   0                        0                     0  \n",
       "1                   4                        0                     3  \n",
       "2                   7                        7                     5  \n",
       "3                   7                        0                     9  \n",
       "4                   0                        1                     0  \n",
       "\n",
       "[5 rows x 31 columns]"
      ]
     },
     "execution_count": 7,
     "metadata": {},
     "output_type": "execute_result"
    }
   ],
   "source": [
    "# 6、数值化一下，因为我们要使用的都是树模型，这里我们都用label encoding，具体原因可以看LightGBM这篇订阅号\n",
    "def to_numeric(data_df_train, data_df_test, columns_dict, label_column):    \n",
    "    for column in columns_dict.keys():\n",
    "        if column == label_column:\n",
    "            data_df_train[column]=data_df_train[column].map(lambda x:1 if x=='Yes' else 0)\n",
    "            continue\n",
    "        lbe = LabelEncoder()\n",
    "        data_df_train[column] = lbe.fit_transform(data_df_train[column])\n",
    "        data_df_test[column] = lbe.transform(data_df_test[column])\n",
    "to_numeric(train_data, test_data, obj_rate_dict, label_column=\"Attrition\")\n",
    "train_data.head(5)"
   ]
  },
  {
   "cell_type": "code",
   "execution_count": 8,
   "metadata": {
    "collapsed": false
   },
   "outputs": [],
   "source": [
    "# 7、数据不做深度剖析，这里只做到这里，然后分一下训练集和验证集\n",
    "def get_train_valid_data(features, labels, test_size=0.2, random_state=666):\n",
    "    x_train, x_valid, y_train, y_valid = train_test_split(features, labels, test_size=test_size, random_state=random_state)\n",
    "    return x_train, x_valid, y_train, y_valid\n",
    "\n",
    "label_column = \"Attrition\"\n",
    "x_train, x_valid, y_train, y_valid = get_train_valid_data(train_data.drop(label_column,axis=1), train_data[label_column])"
   ]
  },
  {
   "cell_type": "code",
   "execution_count": 9,
   "metadata": {
    "collapsed": false
   },
   "outputs": [],
   "source": [
    "# 分别对训练集，验证集，以及测试集进行一式五份的拷贝，因为我们下面要用五个模型分别跑一下\n",
    "x_train_gbdt, x_train_xgb, x_train_lgb, x_train_catb, x_train_ngb = x_train.copy(),x_train.copy(),x_train.copy(),x_train.copy(),x_train.copy()\n",
    "x_valid_gbdt, x_valid_xgb, x_valid_lgb, x_valid_catb, x_valid_ngb = x_valid.copy(),x_valid.copy(),x_valid.copy(),x_valid.copy(),x_valid.copy()\n",
    "y_train_gbdt, y_train_xgb, y_train_lgb, y_train_catb, y_train_ngb = y_train.copy(),y_train.copy(),y_train.copy(),y_train.copy(),y_train.copy()\n",
    "y_valid_gbdt, y_valid_xgb, y_valid_lgb, y_valid_catb, y_valid_ngb = y_valid.copy(),y_valid.copy(),y_valid.copy(),y_valid.copy(),y_valid.copy()\n",
    "\n",
    "test_gbdt, test_xgb, test_lgb, test_catb, test_ngb = test_data.copy(), test_data.copy(), test_data.copy(), test_data.copy(), test_data.copy()"
   ]
  },
  {
   "cell_type": "code",
   "execution_count": 10,
   "metadata": {
    "collapsed": true
   },
   "outputs": [],
   "source": [
    "# 准备好打分函数，这里我们只是统计准确率\n",
    "from sklearn.metrics import accuracy_score\n",
    "def get_scores(y_true, y_predict):\n",
    "    accuracy = '%.4f' % accuracy_score(y_true, y_predict)\n",
    "    return accuracy"
   ]
  },
  {
   "cell_type": "code",
   "execution_count": 11,
   "metadata": {
    "collapsed": false
   },
   "outputs": [
    {
     "name": "stdout",
     "output_type": "stream",
     "text": [
      "auc: 0.8644\n",
      "total costs 0.2689990997314453 seconds\n"
     ]
    },
    {
     "name": "stderr",
     "output_type": "stream",
     "text": [
      "D:\\softWare\\Anaconda\\lib\\site-packages\\ipykernel\\__main__.py:18: FutureWarning: The signature of `Series.to_csv` was aligned to that of `DataFrame.to_csv`, and argument 'header' will change its default value from False to True: please pass an explicit value to suppress this warning.\n"
     ]
    }
   ],
   "source": [
    "# GBDT\n",
    "from sklearn.ensemble import GradientBoostingRegressor   # 这里为了能获得更好的AUC，使用回归模型\n",
    "start_time = time.time()\n",
    "model = GradientBoostingRegressor(random_state=10)\n",
    "model.fit(x_train_gbdt, y_train_gbdt)\n",
    "y_valid_predict_gbdt = model.predict(x_valid_gbdt)\n",
    "y_valid_predict_gbdt = pd.Series(y_valid_predict_gbdt)\n",
    "y_valid_predict_gbdt = y_valid_predict_gbdt.map(lambda x:1 if x>=0.5 else 0)\n",
    "\n",
    "# 验证集看一下得分效果\n",
    "print(\"auc: {}\".format(get_scores(y_valid_gbdt, y_valid_predict_gbdt)))\n",
    "\n",
    "predict = model.predict(test_gbdt)\n",
    "\n",
    "test_gbdt[label_column] = predict\n",
    "# 转化为二分类输出\n",
    "test_gbdt[label_column]=test_gbdt[label_column].map(lambda x:1 if x>=0.5 else 0)\n",
    "test_gbdt[label_column].to_csv('submit_gbdt.csv')\n",
    "print(\"total costs {} seconds\".format(time.time()-start_time))"
   ]
  },
  {
   "cell_type": "code",
   "execution_count": 12,
   "metadata": {
    "collapsed": false
   },
   "outputs": [
    {
     "name": "stdout",
     "output_type": "stream",
     "text": [
      "[00:34:32] WARNING: C:\\Users\\Administrator\\workspace\\xgboost-win64_release_1.1.0\\src\\learner.cc:480: \n",
      "Parameters: { boosting_type, subsample_freq } might not be used.\n",
      "\n",
      "  This may not be accurate due to some parameters are only used in language bindings but\n",
      "  passed down to XGBoost core.  Or some parameters are not used but slip through this\n",
      "  verification. Please open an issue if you find above cases.\n",
      "\n",
      "\n",
      "[0]\ttrain-auc:0.89608\tvalid-auc:0.72375\n",
      "Multiple eval metrics have been passed: 'valid-auc' will be used for early stopping.\n",
      "\n",
      "Will train until valid-auc hasn't improved in 200 rounds.\n"
     ]
    },
    {
     "name": "stderr",
     "output_type": "stream",
     "text": [
      "D:\\softWare\\Anaconda\\lib\\site-packages\\xgboost\\__init__.py:29: FutureWarning: Python 3.5 support is deprecated; XGBoost will require Python 3.6+ in the near future. Consider upgrading to Python 3.6+.\n",
      "  FutureWarning)\n"
     ]
    },
    {
     "name": "stdout",
     "output_type": "stream",
     "text": [
      "[100]\ttrain-auc:0.99207\tvalid-auc:0.80742\n",
      "[200]\ttrain-auc:0.99876\tvalid-auc:0.81951\n",
      "[300]\ttrain-auc:0.99990\tvalid-auc:0.82642\n",
      "[400]\ttrain-auc:1.00000\tvalid-auc:0.83227\n",
      "[500]\ttrain-auc:1.00000\tvalid-auc:0.83347\n",
      "[600]\ttrain-auc:1.00000\tvalid-auc:0.83347\n",
      "Stopping. Best iteration:\n",
      "[466]\ttrain-auc:1.00000\tvalid-auc:0.83440\n",
      "\n",
      "auc: 0.8517\n",
      "total costs 2.9670000076293945 seconds\n"
     ]
    },
    {
     "name": "stderr",
     "output_type": "stream",
     "text": [
      "D:\\softWare\\Anaconda\\lib\\site-packages\\ipykernel\\__main__.py:31: FutureWarning: The signature of `Series.to_csv` was aligned to that of `DataFrame.to_csv`, and argument 'header' will change its default value from False to True: please pass an explicit value to suppress this warning.\n"
     ]
    }
   ],
   "source": [
    "# XGBoost\n",
    "import xgboost as xgb\n",
    "start_time = time.time()\n",
    "x_train_xgb = xgb.DMatrix(x_train_xgb, label=y_train_xgb)\n",
    "x_valid_xgb = xgb.DMatrix(x_valid_xgb, label=y_valid_xgb)\n",
    "test_xgb_transformed = xgb.DMatrix(test_xgb)\n",
    "\n",
    "param = {'boosting_type': 'gbdt',\n",
    "         'objective': 'binary:logistic',  \n",
    "         'eval_metric': 'auc',\n",
    "         'eta': 0.01,\n",
    "         'max_depth': 15,\n",
    "         'colsample_bytree': 0.8,\n",
    "         'subsample': 0.9,\n",
    "         'subsample_freq': 8,\n",
    "         'alpha': 0.6,\n",
    "         'lambda': 0,\n",
    "         }\n",
    "model = xgb.train(param, x_train_xgb, evals=[(x_train_xgb, 'train'), (x_valid_xgb, 'valid')], num_boost_round=10000,\n",
    "                  early_stopping_rounds=200, verbose_eval=100)\n",
    "y_valid_predict_xgb = model.predict(x_valid_xgb)\n",
    "y_valid_predict_xgb = pd.Series(y_valid_predict_xgb)\n",
    "y_valid_predict_xgb = y_valid_predict_xgb.map(lambda x:1 if x>=0.5 else 0)\n",
    "\n",
    "# 验证集看一下得分效果\n",
    "print(\"auc: {}\".format(get_scores(y_valid_xgb, y_valid_predict_xgb)))\n",
    "\n",
    "predict = model.predict(test_xgb_transformed)\n",
    "test_xgb[label_column] = predict\n",
    "test_xgb[label_column]=test_xgb[label_column].map(lambda x:1 if x>=0.5 else 0)\n",
    "test_xgb[label_column].to_csv('submit_xgb.csv')\n",
    "print(\"total costs {} seconds\".format(time.time()-start_time))"
   ]
  },
  {
   "cell_type": "code",
   "execution_count": 13,
   "metadata": {
    "collapsed": false
   },
   "outputs": [
    {
     "name": "stdout",
     "output_type": "stream",
     "text": [
      "Training until validation scores don't improve for 200 rounds\n"
     ]
    },
    {
     "name": "stderr",
     "output_type": "stream",
     "text": [
      "D:\\softWare\\Anaconda\\lib\\site-packages\\lightgbm\\basic.py:1295: UserWarning: categorical_feature in Dataset is overridden.\n",
      "New categorical_feature is ['BusinessTravel', 'Department', 'EducationField', 'Gender', 'JobRole', 'MaritalStatus', 'OverTime']\n",
      "  'New categorical_feature is {}'.format(sorted(list(categorical_feature))))\n"
     ]
    },
    {
     "name": "stdout",
     "output_type": "stream",
     "text": [
      "[200]\ttraining's auc: 0.986203\tvalid_1's auc: 0.812068\n",
      "Early stopping, best iteration is:\n",
      "[15]\ttraining's auc: 0.918869\tvalid_1's auc: 0.819312\n",
      "auc: 0.8390\n",
      "total costs 0.5789990425109863 seconds\n"
     ]
    },
    {
     "name": "stderr",
     "output_type": "stream",
     "text": [
      "D:\\softWare\\Anaconda\\lib\\site-packages\\ipykernel\\__main__.py:38: FutureWarning: The signature of `Series.to_csv` was aligned to that of `DataFrame.to_csv`, and argument 'header' will change its default value from False to True: please pass an explicit value to suppress this warning.\n"
     ]
    }
   ],
   "source": [
    "# lightGBM\n",
    "import lightgbm as lgb\n",
    "start_time = time.time()\n",
    "x_train_lgb = lgb.Dataset(x_train_lgb, label=y_train_lgb)\n",
    "x_valid_lgb_transformed = lgb.Dataset(x_valid_lgb, label=y_valid_lgb)\n",
    "\n",
    "param = {'boosting_type': 'gbdt',\n",
    "         'objective': 'binary',  \n",
    "         'metric': 'auc',\n",
    "         'learning_rate': 0.01,\n",
    "         'max_depth': 15,\n",
    "         'feature_fraction': 0.8,\n",
    "         'bagging_fraction': 0.9,\n",
    "         'bagging_freq': 8,\n",
    "         'lambda_l1': 0.6,\n",
    "         'lambda_l2': 0,\n",
    "         # 'scale_pos_weight':k,\n",
    "         # 'is_unbalance':True\n",
    "         }\n",
    "category = list(obj_rate_dict.keys())\n",
    "category.remove(label_column)\n",
    "\n",
    "model = lgb.train(param, x_train_lgb, valid_sets=[x_train_lgb, x_valid_lgb_transformed], num_boost_round=10000,\n",
    "                  early_stopping_rounds=200, verbose_eval=200, categorical_feature=category)\n",
    "\n",
    "y_valid_predict_lgb = model.predict(x_valid_lgb)\n",
    "y_valid_predict_lgb = pd.Series(y_valid_predict_lgb)\n",
    "y_valid_predict_lgb = y_valid_predict_lgb.map(lambda x:1 if x>=0.5 else 0)\n",
    "\n",
    "# 验证集看一下得分效果\n",
    "print(\"auc: {}\".format(get_scores(y_valid_lgb, y_valid_predict_lgb)))\n",
    "\n",
    "predict = model.predict(test_lgb)\n",
    "test_lgb[label_column] = predict\n",
    "test_lgb[label_column]=test_lgb[label_column].map(lambda x:1 if x>=0.5 else 0)\n",
    "test_lgb[label_column].to_csv('submit_lgb.csv')\n",
    "print(\"total costs {} seconds\".format(time.time()-start_time))"
   ]
  },
  {
   "cell_type": "code",
   "execution_count": 14,
   "metadata": {
    "collapsed": false
   },
   "outputs": [
    {
     "name": "stdout",
     "output_type": "stream",
     "text": [
      "[1, 3, 6, 8, 12, 14, 18]\n",
      "0:\ttest: 0.5572169\tbest: 0.5572169 (0)\ttotal: 81.5ms\tremaining: 1m 21s\n",
      "200:\ttest: 0.8347953\tbest: 0.8347953 (200)\ttotal: 3.38s\tremaining: 13.4s\n",
      "400:\ttest: 0.8426369\tbest: 0.8426369 (400)\ttotal: 6.8s\tremaining: 10.2s\n",
      "600:\ttest: 0.8438331\tbest: 0.8438331 (600)\ttotal: 10.4s\tremaining: 6.88s\n",
      "800:\ttest: 0.8414407\tbest: 0.8438331 (600)\ttotal: 14.1s\tremaining: 3.5s\n",
      "999:\ttest: 0.8373206\tbest: 0.8438331 (600)\ttotal: 17.7s\tremaining: 0us\n",
      "\n",
      "bestTest = 0.8438330675\n",
      "bestIteration = 600\n",
      "\n",
      "Shrink model to first 601 iterations.\n",
      "auc: 0.8517\n",
      "total costs 19.11639404296875 seconds\n"
     ]
    },
    {
     "name": "stderr",
     "output_type": "stream",
     "text": [
      "D:\\softWare\\Anaconda\\lib\\site-packages\\ipykernel\\__main__.py:30: FutureWarning: The signature of `Series.to_csv` was aligned to that of `DataFrame.to_csv`, and argument 'header' will change its default value from False to True: please pass an explicit value to suppress this warning.\n"
     ]
    }
   ],
   "source": [
    "# catBoost\n",
    "import catboost as cb\n",
    "model = cb.CatBoostClassifier(iterations=1000, \n",
    "                              depth=7, \n",
    "                              learning_rate=0.01, \n",
    "                              loss_function='Logloss', \n",
    "                              eval_metric='AUC',\n",
    "                              logging_level='Verbose', \n",
    "                              metric_period=200\n",
    "                             )\n",
    "# 得到分类特征的列号\n",
    "categorical_features_indices = []\n",
    "for i in range(len(x_train_catb.columns)):\n",
    "    if x_train_catb.columns.values[i] in category:\n",
    "        categorical_features_indices.append(i)\n",
    "print(categorical_features_indices)\n",
    "\n",
    "model.fit(x_train_catb, y_train_catb, eval_set=(x_valid_catb, y_valid_catb), cat_features=categorical_features_indices)\n",
    "\n",
    "y_valid_predict_catb = model.predict(x_valid_catb)\n",
    "y_valid_predict_catb = pd.Series(y_valid_predict_catb)\n",
    "y_valid_predict_catb = y_valid_predict_catb.map(lambda x:1 if x>=0.5 else 0)\n",
    "\n",
    "# 验证集看一下得分效果\n",
    "print(\"auc: {}\".format(get_scores(y_valid_catb, y_valid_predict_catb)))\n",
    "\n",
    "predict = model.predict(test_catb)\n",
    "test_catb[label_column] = predict\n",
    "test_catb[label_column]=test_catb[label_column].map(lambda x:1 if x>=0.5 else 0)\n",
    "test_catb[label_column].to_csv('submit_catb.csv')\n",
    "print(\"total costs {} seconds\".format(time.time()-start_time))"
   ]
  },
  {
   "cell_type": "code",
   "execution_count": 23,
   "metadata": {
    "collapsed": false
   },
   "outputs": [
    {
     "name": "stdout",
     "output_type": "stream",
     "text": [
      "[iter {itr}] loss={loss:.4f} val_loss={val_loss:.4f} scale={scale:.4f} norm={grad_norm:.4f}\n",
      "[iter {itr}] loss={loss:.4f} val_loss={val_loss:.4f} scale={scale:.4f} norm={grad_norm:.4f}\n",
      "[iter {itr}] loss={loss:.4f} val_loss={val_loss:.4f} scale={scale:.4f} norm={grad_norm:.4f}\n",
      "[iter {itr}] loss={loss:.4f} val_loss={val_loss:.4f} scale={scale:.4f} norm={grad_norm:.4f}\n",
      "[iter {itr}] loss={loss:.4f} val_loss={val_loss:.4f} scale={scale:.4f} norm={grad_norm:.4f}\n",
      "auc: 0.8559\n",
      "total costs 578.911324262619 seconds\n"
     ]
    },
    {
     "name": "stderr",
     "output_type": "stream",
     "text": [
      "D:\\softWare\\Anaconda\\lib\\site-packages\\ipykernel\\__main__.py:22: FutureWarning: The signature of `Series.to_csv` was aligned to that of `DataFrame.to_csv`, and argument 'header' will change its default value from False to True: please pass an explicit value to suppress this warning.\n"
     ]
    }
   ],
   "source": [
    "# ngBoost\n",
    "import ngboost as ng\n",
    "model = ng.NGBClassifier(n_estimators=1000,\n",
    "                         learning_rate=0.01,\n",
    "                         verbose=True,\n",
    "                         verbose_eval=200\n",
    "                         )\n",
    "\n",
    "model.fit(x_train_ngb, y_train_ngb)\n",
    "\n",
    "y_valid_predict_ngb = model.predict_proba(x_valid_ngb)[:,1]\n",
    "y_valid_predict_ngb = pd.Series(y_valid_predict_ngb)\n",
    "y_valid_predict_ngb = y_valid_predict_ngb.map(lambda x:1 if x>=0.5 else 0)\n",
    "\n",
    "# 验证集看一下得分效果\n",
    "print(\"auc: {}\".format(get_scores(y_valid_ngb, y_valid_predict_ngb)))\n",
    "\n",
    "# predict = model.predict(test_ngb)\n",
    "predict = model.predict_proba(test_ngb)[:,1]   # 这里可以直接获取概率值，我们取其为1对应的概率\n",
    "test_ngb[label_column] = predict\n",
    "test_ngb[label_column]=test_ngb[label_column].map(lambda x:1 if x>=0.5 else 0)\n",
    "test_ngb[label_column].to_csv('submit_ngb.csv')\n",
    "print(\"total costs {} seconds\".format(time.time()-start_time))"
   ]
  },
  {
   "cell_type": "code",
   "execution_count": null,
   "metadata": {
    "collapsed": true
   },
   "outputs": [],
   "source": [
    "# 调参是一个及其复杂的过程，尤其要每个模型都到最佳。\n",
    "# 这里就不逐一去最佳化调参了。"
   ]
  }
 ],
 "metadata": {
  "kernelspec": {
   "display_name": "Python 3",
   "language": "python",
   "name": "python3"
  },
  "language_info": {
   "codemirror_mode": {
    "name": "ipython",
    "version": 3
   },
   "file_extension": ".py",
   "mimetype": "text/x-python",
   "name": "python",
   "nbconvert_exporter": "python",
   "pygments_lexer": "ipython3",
   "version": "3.5.6"
  }
 },
 "nbformat": 4,
 "nbformat_minor": 0
}
