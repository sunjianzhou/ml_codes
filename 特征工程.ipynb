{
 "cells": [
  {
   "cell_type": "code",
   "execution_count": null,
   "metadata": {
    "collapsed": true
   },
   "outputs": [],
   "source": [
    "x_train, x_test = [], []"
   ]
  },
  {
   "cell_type": "markdown",
   "metadata": {},
   "source": [
    "# 标准化"
   ]
  },
  {
   "cell_type": "code",
   "execution_count": null,
   "metadata": {
    "collapsed": true
   },
   "outputs": [],
   "source": [
    "from sklearn.preprocessing import StandardScaler\n",
    "\n",
    "norm_ins = StandardScaler()\n",
    "norm_ins.fit(x_train)\n",
    "x_train_norm = norm_ins.transform(x_train)\n",
    "x_test_norm = norm_ins.transform(x_test)"
   ]
  },
  {
   "cell_type": "markdown",
   "metadata": {},
   "source": [
    "# 归一化"
   ]
  },
  {
   "cell_type": "code",
   "execution_count": null,
   "metadata": {
    "collapsed": true
   },
   "outputs": [],
   "source": [
    "from sklearn.preprocessing import Normalizer\n",
    "\n",
    "norm_ins = Normalizer()\n",
    "norm_ins.fit(x_train)\n",
    "x_train_norm = norm_ins.transform(x_train)\n",
    "x_test_norm = norm_ins.transform(x_test)"
   ]
  },
  {
   "cell_type": "markdown",
   "metadata": {},
   "source": [
    "# 区间放缩法"
   ]
  },
  {
   "cell_type": "code",
   "execution_count": null,
   "metadata": {
    "collapsed": true
   },
   "outputs": [],
   "source": [
    "from sklearn.preprocessing import MinMaxScaler\n",
    "\n",
    "norm_ins = MinMaxScaler()\n",
    "norm_ins.fit(x_train)\n",
    "x_train_norm = norm_ins.transform(x_train)\n",
    "x_test_norm = norm_ins.transform(x_test)"
   ]
  },
  {
   "cell_type": "markdown",
   "metadata": {},
   "source": [
    "# 二值化"
   ]
  },
  {
   "cell_type": "code",
   "execution_count": null,
   "metadata": {
    "collapsed": true
   },
   "outputs": [],
   "source": [
    "from sklearn.preprocessing import Binarizer\n",
    "\n",
    "norm_ins = Binarizer(threshold=6)\n",
    "norm_ins.fit(x_train)\n",
    "x_train_norm = norm_ins.transform(x_train)\n",
    "x_test_norm = norm_ins.transform(x_test)"
   ]
  },
  {
   "cell_type": "markdown",
   "metadata": {},
   "source": [
    "# 特征扩展"
   ]
  },
  {
   "cell_type": "code",
   "execution_count": null,
   "metadata": {
    "collapsed": true
   },
   "outputs": [],
   "source": [
    "import sklearn.preprocessing as preproc\n",
    "from sklearn.model_selection import train_test_split\n",
    "\n",
    "x_train_new = preproc.PolynomialFeatures(include_bias=False).fit_transform(x_train)\n",
    "x1_train, x1_test, x2_train, x2_test, y_train, y_test = train_test_split(x_train, x_train_new, y, test_size=0.3,random_state=0)\n"
   ]
  },
  {
   "cell_type": "code",
   "execution_count": null,
   "metadata": {
    "collapsed": true
   },
   "outputs": [],
   "source": [
    "from sklearn import linear_model\n",
    "def evaluate_feature(x_train, x_test, y_train, y_test):\n",
    "    model = linear_model.LinearRegression().fit(x_train, y_train)\n",
    "    r_score = model.score(x_test, y_test)\n",
    "    return model, r_score\n",
    "\n",
    "\n",
    "model_1, r_score_1 = evaluate_feature(x1_train, x1_test, y_train, y_test)\n",
    "model_2, r_score_2 = evaluate_feature(x2_train, x2_test, y_train, y_test)"
   ]
  },
  {
   "cell_type": "markdown",
   "metadata": {
    "collapsed": true
   },
   "source": [
    "# 特征过滤"
   ]
  },
  {
   "cell_type": "code",
   "execution_count": null,
   "metadata": {
    "collapsed": true
   },
   "outputs": [],
   "source": [
    "\n",
    "def show_feature_importance(feature_list, feature_importance):\n",
    "    feature_importance = 100.0 * (feature_importance / feature_importance.max()) # 做一个区间缩放，然后映射到0到100之间。\n",
    "    fi_threshold = 20  # 设定阈值\n",
    "    important_idx = np.where(feature_importance > fi_threshold)[0]  # 重要特征的下标\n",
    "    important_features = [feature_list[i] for i in important_idx]  # 特征名称\n",
    "    sorted_idx = np.argsort(feature_importance[important_idx])[::-1]  # 重要特征\n",
    "    # 可视化\n",
    "    pos = np.arange(sorted_idx.shape[0]) + 0.5\n",
    "    plt.subplot(1, 2, 2)\n",
    "    plt.title('Feature Importance')\n",
    "    plt.barh(pos, feature_importance[important_idx][sorted_idx[::-1]], color='r',align='center')\n",
    "    plt.yticks(pos, [important_features[i] for i in sorted_idx[::-1]])\n",
    "    plt.xlabel('Relative Importance')\n",
    "    plt.draw()\n",
    "    plt.show()"
   ]
  },
  {
   "cell_type": "markdown",
   "metadata": {
    "collapsed": true
   },
   "source": [
    "# 特征选择"
   ]
  },
  {
   "cell_type": "code",
   "execution_count": null,
   "metadata": {
    "collapsed": true
   },
   "outputs": [],
   "source": [
    "# 1、过滤法之方差过滤\n",
    "from sklearn.feature_selection import VarianceThreshold\n",
    "x_trian_new = VarianceThreshold(threshold=1).fit_transform(x_train)"
   ]
  },
  {
   "cell_type": "code",
   "execution_count": null,
   "metadata": {
    "collapsed": true
   },
   "outputs": [],
   "source": [
    "# 2、过滤法之皮尔逊系数过滤\n",
    "from sklearn.feature_selection import SelectKBest\n",
    "from scipy.stats import pearsonr\n",
    "import numpy as np\n",
    "\n",
    "# 方式一：直接计算两者的相关系数\n",
    "np.random.seed(0)\n",
    "size = 300\n",
    "x = np.random.normal(0, 1, size)\n",
    "print(pearsonr(x, x + np.random.normal(0, 1, size)))\n",
    "\n",
    "# 方式一进阶：选择K个最好的特征，返回选择特征后的数据\n",
    "SelectKBest(lambda X, Y: array(map(lambda x:pearsonr(x, Y), X.T)).T, k=2).fit_transform(iris.data, iris.target)\n",
    "\n",
    "# 方式二：使用pandas的相关性矩阵\n",
    "data_df_corr = data_df.corr(method='pearson')\n",
    "print(data_df.feature_1.corr(data_df.feature_2))  #两个特征的相关系数\n",
    "\n",
    "# 方式三：使用numpy或者直接公式计算\n",
    "from numpy import mean, multiply, std, corrcoef\n",
    "vc=[1,2,39,0,8]\n",
    "vb=[1,2,38,0,8]\n",
    "print(mean(multiply((vc-mean(vc)),(vb-mean(vb))))/(std(vb)*std(vc)))\n",
    "print(corrcoef(vc,vb))\n",
    "\n",
    "# 方式四：\n",
    "#第一个参数为计算评估特征是否好的函数，该函数输入特征矩阵和目标向量，输出二元组（评分，P值）的数组，数组第i项为第i个特征的评分和P值。\n",
    "#参数k为选择的特征个数\n",
    "# 定义函数\n",
    "def multivariate_pearsonr(X, y):\n",
    "    scores, pvalues = [], []\n",
    "    for ret in map(lambda x:pearsonr(x, y), X.T):\n",
    "        scores.append(abs(ret[0]))\n",
    "        pvalues.append(ret[1])\n",
    "    return (np.array(scores), np.array(pvalues))\n",
    "\n",
    "transformer = SelectKBest(score_func=multivariate_pearsonr, k=2)\n",
    "Xt_pearson = transformer.fit_transform(iris.data, iris.target)\n",
    "print(Xt_pearson)"
   ]
  },
  {
   "cell_type": "code",
   "execution_count": null,
   "metadata": {
    "collapsed": true
   },
   "outputs": [],
   "source": [
    "# 3、过滤法之互信息过滤\n",
    "from minepy import MINE\n",
    "from sklearn.feature_selection import SelectKBest\n",
    "\n",
    "# 方式一\n",
    "m = MINE()\n",
    "x = np.random.uniform(-1, 1, 10000)\n",
    "m.compute_score(x, x**2)\n",
    "print(m.mic())\n",
    "\n",
    "# 方式一进阶：直接选择出特征\n",
    "def mic(x, y):\n",
    "    m_ins = MINE()\n",
    "    m_ins.compute_score(x, y)\n",
    "    return (m_ins.mic(), 0.5)\n",
    "\n",
    "SelectKBest(lambda X, Y: array(map(lambda x:mic(x, Y), X.T)).T, k=2).fit_transform(iris.data, iris.target)"
   ]
  },
  {
   "cell_type": "code",
   "execution_count": null,
   "metadata": {},
   "outputs": [],
   "source": [
    "# 4、过滤法之卡方过滤：适用于离散型变量的分类问题\n",
    "from sklearn.feature_selection import SelectKBest\n",
    "from sklearn.feature_selection import chi2\n",
    "\n",
    "#选择K个最好的特征，返回选择特征后的数据\n",
    "SelectKBest(chi2, k=2).fit_transform(iris.data, iris.target)"
   ]
  },
  {
   "cell_type": "code",
   "execution_count": null,
   "metadata": {
    "collapsed": true
   },
   "outputs": [],
   "source": [
    "# 5、过滤法之F检验，连续型变量的分类问题，可以使用f_classif\n",
    "from sklearn.feature_selection import f_regression\n",
    "sk1 = SelectKBest(f_regression,k=2)\n",
    "sk1.fit(X,Y)\n",
    "print(sk1.scores_)\n",
    "print(sk1.transform(X))\n",
    "\n",
    "# 连续型变量的回归问题，使用f_regression\n",
    "from sklearn.feature_selection import SelectKBest, f_classif\n",
    "selector = SelectKBest(f_classif, k=5)\n",
    "selector.fit(features_df, target)\n",
    "# Get idxs of columns to keep\n",
    "cols = selector.get_support(indices=True)\n",
    "# Create new dataframe with only desired columns, or overwrite existing\n",
    "features_df_new = features_df[cols]"
   ]
  },
  {
   "cell_type": "code",
   "execution_count": null,
   "metadata": {
    "collapsed": true
   },
   "outputs": [],
   "source": [
    "# 6、打包法之递归特征消除法\n",
    "from sklearn.feature_selection import RFE\n",
    "from sklearn.linear_model import LogisticRegression\n",
    "\n",
    "#递归特征消除法，返回特征选择后的数据\n",
    "#参数estimator为基模型\n",
    "#参数n_features_to_select为选择的特征个数\n",
    "RFE(estimator=LogisticRegression(), n_features_to_select=2).fit_transform(iris.data, iris.target)"
   ]
  },
  {
   "cell_type": "code",
   "execution_count": null,
   "metadata": {
    "collapsed": true
   },
   "outputs": [],
   "source": [
    "# 7、嵌入式法： 前提是基学习器需要能提供feature_importance的属性\n",
    "from sklearn.feature_selection import SelectFromModel\n",
    "from sklearn.ensemble import GradientBoostingClassifier\n",
    "\n",
    "# 示例一：GBDT作为基模型的特征选择\n",
    "SelectFromModel(GradientBoostingClassifier()).fit_transform(iris.data, iris.target)\n",
    "\n",
    "# 示例二：逻辑回顾作为基模型的特征选择\n",
    "from sklearn.linear_model import LogisticRegression\n",
    "\n",
    "#带L1惩罚项的逻辑回归作为基模型的特征选择\n",
    "SelectFromModel(LogisticRegression(penalty=\"l1\", C=0.1)).fit_transform(iris.data, iris.target)"
   ]
  },
  {
   "cell_type": "markdown",
   "metadata": {},
   "source": [
    "# jieba分词"
   ]
  },
  {
   "cell_type": "code",
   "execution_count": 1,
   "metadata": {},
   "outputs": [
    {
     "name": "stderr",
     "output_type": "stream",
     "text": [
      "Building prefix dict from the default dictionary ...\n",
      "Loading model from cache C:\\Users\\SUNJIA~1\\AppData\\Local\\Temp\\jieba.cache\n",
      "Loading model cost 1.125 seconds.\n",
      "Prefix dict has been built successfully.\n"
     ]
    },
    {
     "name": "stdout",
     "output_type": "stream",
     "text": [
      "['上海 自来水 来自 海上 ， 所以 吃 葡萄 不吐 葡萄 皮', '我 为 机器 学习 疯狂 打 call'] \n",
      "\n",
      "['上海 自来水 来自 海上 ， 所以 吃 葡萄 不吐 葡萄皮', '我 为 机器 学习 疯狂 打 call']\n"
     ]
    }
   ],
   "source": [
    "import jieba\n",
    "a = ['上海自来水来自海上，所以吃葡萄不吐葡萄皮',\n",
    "    '我为机器学习疯狂打call']\n",
    "print([\" \".join(jieba.cut(each)) for each in a], \"\\n\")  \n",
    "jieba.add_word('葡萄皮')  # 这里对葡萄皮会拆解开，所以可以增加一个专有词\n",
    "print([\" \".join(jieba.cut(each)) for each in a])"
   ]
  },
  {
   "cell_type": "markdown",
   "metadata": {},
   "source": [
    "# 去停用词"
   ]
  },
  {
   "cell_type": "code",
   "execution_count": 3,
   "metadata": {},
   "outputs": [
    {
     "name": "stdout",
     "output_type": "stream",
     "text": [
      "['为', '机器', '学习', '疯狂', '打', 'call']\n"
     ]
    }
   ],
   "source": [
    "stop_words = {\"的\",\"你\",\"我\",\"他\"}\n",
    "sentence = \"我为机器学习疯狂打call\"\n",
    "res = [each for each in jieba.cut(sentence) if each not in stop_words]\n",
    "print(res)"
   ]
  },
  {
   "cell_type": "markdown",
   "metadata": {},
   "source": [
    "# 高频词低频词处理"
   ]
  },
  {
   "cell_type": "code",
   "execution_count": null,
   "metadata": {
    "collapsed": true
   },
   "outputs": [],
   "source": [
    "# 先获得词频字典\n",
    "import math\n",
    "from collections import Counter\n",
    "totalNum = len(words)\n",
    "word_dict = Counter(words)\n",
    "word_dict = {key:value/totalNum for key,value in word_dict.items()}\n",
    "\n",
    "def remove_low_freq(word_dict,threshold=0.0001):\n",
    "    res = {key:value for key,value in word_dict.items() if value >= threshold}\n",
    "    print(\"{} low_freq words have been removed \\n\".format(len(word_dict)-len(res)))\n",
    "    return res\n",
    "\n",
    "def remove_high_freq(word_dict,threshold=0.05): #阈值视词量而定\n",
    "    res = {}\n",
    "    removed_num = 0\n",
    "    for key,value in word_dict.items():\n",
    "        ran = math.sqrt(threshold/value) + threshold/value\n",
    "        prob = np.random.rand()\n",
    "        if prob <= ran:\n",
    "            res.update({key:value})\n",
    "        else:\n",
    "            removed_num += 1\n",
    "    print(\"{} high_freq words have been removed \\n\".format(removed_num))\n",
    "    return res"
   ]
  },
  {
   "cell_type": "markdown",
   "metadata": {},
   "source": [
    "# 词袋法"
   ]
  },
  {
   "cell_type": "code",
   "execution_count": 15,
   "metadata": {},
   "outputs": [
    {
     "name": "stdout",
     "output_type": "stream",
     "text": [
      "[[0 1 1 0 0 0 1 0 1 1 0 1 2]\n",
      " [1 0 0 0 1 0 0 1 0 0 1 0 0]\n",
      " [0 0 0 2 0 2 0 0 0 0 0 0 0]]\n",
      "['call', '上海', '不吐', '如意', '学习', '急急', '所以', '机器', '来自', '海上', '疯狂', '自来水', '葡萄'] \n",
      "\n",
      "[[1 1 0 0 0 1 0 1 1 0 1 1]\n",
      " [0 0 0 1 0 0 1 0 0 1 0 0]\n",
      " [0 0 1 0 2 0 0 0 0 0 0 0]]\n",
      "['上海 自来水', '不吐 葡萄', '如意 急急', '学习 疯狂', '急急 如意', '所以 葡萄', '机器 学习', '来自 海上', '海上 所以', '疯狂 call', '自来水 来自', '葡萄 不吐'] \n",
      "\n",
      "[[0 1 1 0 0 1 0 0 0 0 1 0 0 1 1 0 1 1 2]\n",
      " [1 0 0 1 0 0 0 1 0 1 0 1 1 0 0 1 0 0 0]\n",
      " [0 0 0 0 2 0 2 0 2 0 0 0 0 0 0 0 0 0 0]]\n",
      "['call', '上海', '不吐', '为', '令', '吃', '如意', '学习', '急急', '我', '所以', '打', '机器', '来自', '海上', '疯狂', '皮', '自来水', '葡萄']\n"
     ]
    }
   ],
   "source": [
    "import jieba\n",
    "from sklearn.feature_extraction.text import CountVectorizer\n",
    "\n",
    "a = ['上海自来水来自海上，所以吃葡萄不吐葡萄皮',\n",
    "    '我为机器学习疯狂打call',\n",
    "    '急急如意令，急急如意令']\n",
    "import numpy as np\n",
    "import pandas as pd\n",
    "df = pd.Series(a).apply(lambda x:' '.join(jieba.cut(x)))\n",
    "cv_1 = CountVectorizer()\n",
    "print(cv_1.fit_transform(df).toarray())\n",
    "print(cv_1.get_feature_names(), \"\\n\")\n",
    "\n",
    "cv_2 = CountVectorizer(ngram_range=(2,2))  # 二元语言模型，相对而言，适用于英文文本\n",
    "print(cv_2.fit_transform(df).toarray())\n",
    "print(cv_2.get_feature_names(), \"\\n\")\n",
    "\n",
    "# token_pattern指定统计词频的模式, 不指定, 默认如英文, 不统计单字\n",
    "cv_3 = CountVectorizer(token_pattern='\\\\b\\\\w+\\\\b') \n",
    "print(cv_3.fit_transform(df).toarray())\n",
    "print(cv_3.get_feature_names())"
   ]
  },
  {
   "cell_type": "markdown",
   "metadata": {
    "collapsed": true
   },
   "source": [
    "# 词集法"
   ]
  },
  {
   "cell_type": "code",
   "execution_count": 6,
   "metadata": {},
   "outputs": [
    {
     "name": "stdout",
     "output_type": "stream",
     "text": [
      "[[0 1 1 0 0 0 1 0 1 1 0 1 2]\n",
      " [1 0 0 0 1 0 0 1 0 0 1 0 0]\n",
      " [0 0 0 2 0 2 0 0 0 0 0 0 0]] \n",
      "\n",
      "[[0 1 1 0 0 0 1 0 1 1 0 1 1]\n",
      " [1 0 0 0 1 0 0 1 0 0 1 0 0]\n",
      " [0 0 0 1 0 1 0 0 0 0 0 0 0]]\n"
     ]
    }
   ],
   "source": [
    "import jieba\n",
    "import pandas as pd\n",
    "from sklearn.feature_extraction.text import CountVectorizer\n",
    "from sklearn.preprocessing import Binarizer\n",
    "a = ['上海自来水来自海上，所以吃葡萄不吐葡萄皮',\n",
    "    '我为机器学习疯狂打call',\n",
    "    '急急如意令，急急如意令']\n",
    "df = pd.Series(a).apply(lambda x:' '.join(jieba.cut(x)))\n",
    "cv_1 = CountVectorizer()\n",
    "res_1 = cv_1.fit_transform(df).toarray()\n",
    "print(res_1, \"\\n\")\n",
    "norm_ins = Binarizer(threshold=0) # 大于0即为1，否则为0。\n",
    "res_2 = norm_ins.fit_transform(res_1)\n",
    "print(res_2)"
   ]
  },
  {
   "cell_type": "markdown",
   "metadata": {},
   "source": [
    "# TF-IDF"
   ]
  },
  {
   "cell_type": "code",
   "execution_count": 21,
   "metadata": {},
   "outputs": [
    {
     "name": "stdout",
     "output_type": "stream",
     "text": [
      "['上海   自来水   来自   海上   ，   所以   吃   葡萄   不吐   葡萄   皮', '我   为   机器   学习   疯狂   打   call', '急急   如意   令   ，   急急   如意   令'] \n",
      " ====================\n",
      "['call', '上海', '不吐', '如意', '学习', '急急', '所以', '机器', '来自', '海上', '疯狂', '自来水', '葡萄']\n",
      "[[0.         0.31622777 0.31622777 0.         0.         0.\n",
      "  0.31622777 0.         0.31622777 0.31622777 0.         0.31622777\n",
      "  0.63245553]\n",
      " [0.5        0.         0.         0.         0.5        0.\n",
      "  0.         0.5        0.         0.         0.5        0.\n",
      "  0.        ]\n",
      " [0.         0.         0.         0.70710678 0.         0.70710678\n",
      "  0.         0.         0.         0.         0.         0.\n",
      "  0.        ]] \n",
      " ====================\n",
      "[[0.         0.         1.         0.         0.         0.        ]\n",
      " [0.70710678 0.         0.         0.70710678 0.         0.        ]\n",
      " [0.         0.57735027 0.         0.         0.57735027 0.57735027]]\n",
      "['are you', 'do you', 'hello world', 'how are', 'how do', 'you do']\n"
     ]
    }
   ],
   "source": [
    "import jieba\n",
    "import pandas as pd\n",
    "from sklearn.feature_extraction.text import CountVectorizer\n",
    "from sklearn.feature_extraction.text import TfidfTransformer  \n",
    "chinese_words = ['上海自来水来自海上，所以吃葡萄不吐葡萄皮',\n",
    "                '我为机器学习疯狂打call',\n",
    "                '急急如意令，急急如意令']\n",
    "chinese_words = [\" \".join(jieba.cut(each)) for each in words]\n",
    "print(chinese_words, \"\\n\", \"=\"*20)\n",
    "\n",
    "# 打印向量同时，要获取其对应的词结果。则可以套一层词袋\n",
    "vectorizer = CountVectorizer() \n",
    "transformer = TfidfTransformer()\n",
    "tfidf = transformer.fit_transform(vectorizer.fit_transform(chinese_words)) \n",
    "word = vectorizer.get_feature_names()  \n",
    "print(word)\n",
    "weight = tfidf.toarray()  \n",
    "print(weight, \"\\n\", \"=\"*20)\n",
    "\n",
    "# 如果使用TfidfTransformer，则需要配套使用CountVectorizer\n",
    "# 但是可以直接使用TfidfVectorizer\n",
    "from sklearn.feature_extraction.text import TfidfVectorizer\n",
    "tfidf_vect = TfidfVectorizer(ngram_range=(2,2))\n",
    "english_words = [\"hello world\",\"how are you\", \"how do you do\"]\n",
    "X_train_tfidf = tfidf_vect.fit_transform(english_words)\n",
    "print(X_train_tfidf.toarray())\n",
    "print(tfidf_vect.get_feature_names())"
   ]
  },
  {
   "cell_type": "markdown",
   "metadata": {
    "collapsed": true
   },
   "source": [
    "# 词性分析"
   ]
  },
  {
   "cell_type": "code",
   "execution_count": 49,
   "metadata": {},
   "outputs": [
    {
     "name": "stdout",
     "output_type": "stream",
     "text": [
      "0    [(上海, ns), (自来水, l), (来自, v), (海上, s), (，, x),...\n",
      "1    [(我, r), (为, p), (机器, n), (学习, v), (疯狂, a), (打...\n",
      "2    [(急急, a), (如意, v), (令, v), (，, x), (急急, a), (如...\n",
      "dtype: object\n"
     ]
    }
   ],
   "source": [
    "import jieba.posseg as pseg\n",
    "import numpy as np\n",
    "import pandas as pd\n",
    "a = ['上海自来水来自海上，所以吃葡萄不吐葡萄皮',\n",
    "    '我为机器学习疯狂打call',\n",
    "    '急急如意令，急急如意令']\n",
    "\n",
    "series = pd.Series(a).apply(lambda x:' '.join(jieba.cut(x)))\n",
    "series = series.apply(lambda x: pseg.cut(x))\n",
    "\n",
    "def myFunc(x):\n",
    "    res = [(each.word, each.flag) for each in x if each.word.strip()]\n",
    "    return res\n",
    "\n",
    "series = series.apply(lambda x: myFunc(x))\n",
    "print(series)"
   ]
  },
  {
   "cell_type": "code",
   "execution_count": 10,
   "metadata": {},
   "outputs": [
    {
     "name": "stdout",
     "output_type": "stream",
     "text": [
      "0    [来自, 皮, 吃, 上海, 吐, 葡萄]\n",
      "1              [学习, 打, 机器]\n",
      "2                  [如意, 令]\n",
      "dtype: object\n"
     ]
    }
   ],
   "source": [
    "import jieba\n",
    "import jieba.posseg as pseg\n",
    "import numpy as np\n",
    "import pandas as pd\n",
    "a = ['上海自来水来自海上，所以吃葡萄不吐葡萄皮',\n",
    "    '我为机器学习疯狂打call',\n",
    "    '急急如意令，急急如意令']\n",
    "\n",
    "series = pd.Series(a).apply(lambda x:' '.join(jieba.cut(x)))\n",
    "series = series.apply(lambda x: pseg.cut(x))\n",
    "\n",
    "def myFunc(x, start_tag):\n",
    "    res = [each.word for each in x if each is not None and each.word.strip() and each.flag.startswith(start_tag) ]\n",
    "    res = list(set(res))\n",
    "    return res\n",
    "\n",
    "series = series.apply(lambda x: myFunc(x, (\"n\",\"v\")))\n",
    "print(series)"
   ]
  },
  {
   "cell_type": "markdown",
   "metadata": {
    "collapsed": true
   },
   "source": [
    "# 离散数据数值化"
   ]
  },
  {
   "cell_type": "code",
   "execution_count": 1,
   "metadata": {},
   "outputs": [
    {
     "data": {
      "text/html": [
       "<div>\n",
       "<style scoped>\n",
       "    .dataframe tbody tr th:only-of-type {\n",
       "        vertical-align: middle;\n",
       "    }\n",
       "\n",
       "    .dataframe tbody tr th {\n",
       "        vertical-align: top;\n",
       "    }\n",
       "\n",
       "    .dataframe thead th {\n",
       "        text-align: right;\n",
       "    }\n",
       "</style>\n",
       "<table border=\"1\" class=\"dataframe\">\n",
       "  <thead>\n",
       "    <tr style=\"text-align: right;\">\n",
       "      <th></th>\n",
       "      <th>a</th>\n",
       "      <th>b</th>\n",
       "      <th>c</th>\n",
       "      <th>sex</th>\n",
       "      <th>education</th>\n",
       "    </tr>\n",
       "  </thead>\n",
       "  <tbody>\n",
       "    <tr>\n",
       "      <th>0</th>\n",
       "      <td>7</td>\n",
       "      <td>3</td>\n",
       "      <td>7</td>\n",
       "      <td>F</td>\n",
       "      <td>小学</td>\n",
       "    </tr>\n",
       "    <tr>\n",
       "      <th>1</th>\n",
       "      <td>2</td>\n",
       "      <td>3</td>\n",
       "      <td>9</td>\n",
       "      <td>M</td>\n",
       "      <td>大学</td>\n",
       "    </tr>\n",
       "    <tr>\n",
       "      <th>2</th>\n",
       "      <td>2</td>\n",
       "      <td>5</td>\n",
       "      <td>6</td>\n",
       "      <td>F</td>\n",
       "      <td>高中</td>\n",
       "    </tr>\n",
       "    <tr>\n",
       "      <th>3</th>\n",
       "      <td>8</td>\n",
       "      <td>9</td>\n",
       "      <td>1</td>\n",
       "      <td>F</td>\n",
       "      <td>初中</td>\n",
       "    </tr>\n",
       "  </tbody>\n",
       "</table>\n",
       "</div>"
      ],
      "text/plain": [
       "   a  b  c sex education\n",
       "0  7  3  7   F        小学\n",
       "1  2  3  9   M        大学\n",
       "2  2  5  6   F        高中\n",
       "3  8  9  1   F        初中"
      ]
     },
     "execution_count": 1,
     "metadata": {},
     "output_type": "execute_result"
    }
   ],
   "source": [
    "import pandas as pd\n",
    "import numpy as np\n",
    "datas = np.random.randint(1,10,(4,3))\n",
    "data_df = pd.DataFrame(datas, columns=list(\"abc\"))\n",
    "data_df[\"sex\"] = pd.Series([\"F\",\"M\",\"F\",\"F\"])\n",
    "data_df[\"education\"] = pd.Series([\"小学\",\"大学\",\"高中\",\"初中\"])\n",
    "data_df"
   ]
  },
  {
   "cell_type": "markdown",
   "metadata": {},
   "source": [
    "# 1、独热编码OneHot Encoding"
   ]
  },
  {
   "cell_type": "code",
   "execution_count": 3,
   "metadata": {},
   "outputs": [
    {
     "name": "stdout",
     "output_type": "stream",
     "text": [
      "   a  b  c education  x0_F  x0_M\n",
      "0  9  6  1        小学   1.0   0.0\n",
      "1  6  3  9        大学   0.0   1.0\n",
      "2  8  9  3        高中   1.0   0.0\n",
      "3  5  7  2        初中   1.0   0.0\n",
      "   a  b  c  x0_F  x0_M  x1_初中  x1_大学  x1_小学  x1_高中\n",
      "0  9  6  1   1.0   0.0    0.0    0.0    1.0    0.0\n",
      "1  6  3  9   0.0   1.0    0.0    1.0    0.0    0.0\n",
      "2  8  9  3   1.0   0.0    0.0    0.0    0.0    1.0\n",
      "3  5  7  2   1.0   0.0    1.0    0.0    0.0    0.0\n"
     ]
    }
   ],
   "source": [
    "from sklearn.preprocessing import  OneHotEncoder\n",
    "encoder = OneHotEncoder(sparse=False)\n",
    "origin_data = data_df.copy()\n",
    "sex_data = encoder.fit_transform(origin_data[\"sex\"].values.reshape(-1,1))  # 只对某一列操作\n",
    "sex_data = pd.DataFrame(sex_data, columns=encoder.get_feature_names())\n",
    "one_hot_data = pd.concat([origin_data, sex_data], axis=1).drop([\"sex\"], axis=1)\n",
    "print(one_hot_data)\n",
    "\n",
    "one_hot_data = encoder.fit_transform(origin_data[[\"sex\", \"education\"]])  # 同时操作字符串列和汉字列\n",
    "one_hot_data = pd.DataFrame(one_hot_data, columns=encoder.get_feature_names())\n",
    "one_hot_data = pd.concat([origin_data, one_hot_data], axis=1).drop([\"sex\", \"education\"],axis=1)\n",
    "print(one_hot_data)"
   ]
  },
  {
   "cell_type": "markdown",
   "metadata": {},
   "source": [
    "# 2、哑编码get_dummies"
   ]
  },
  {
   "cell_type": "code",
   "execution_count": 4,
   "metadata": {},
   "outputs": [
    {
     "name": "stdout",
     "output_type": "stream",
     "text": [
      "   a  b  c education  F  M\n",
      "0  7  3  7        小学  1  0\n",
      "1  2  3  9        大学  0  1\n",
      "2  2  5  6        高中  1  0\n",
      "3  8  9  1        初中  1  0\n",
      "   a  b  c  sex_F  sex_M  education_初中  education_大学  education_小学  \\\n",
      "0  7  3  7      1      0             0             0             1   \n",
      "1  2  3  9      0      1             0             1             0   \n",
      "2  2  5  6      1      0             0             0             0   \n",
      "3  8  9  1      1      0             1             0             0   \n",
      "\n",
      "   education_高中  \n",
      "0             0  \n",
      "1             0  \n",
      "2             1  \n",
      "3             0  \n"
     ]
    },
    {
     "data": {
      "text/html": [
       "<div>\n",
       "<style scoped>\n",
       "    .dataframe tbody tr th:only-of-type {\n",
       "        vertical-align: middle;\n",
       "    }\n",
       "\n",
       "    .dataframe tbody tr th {\n",
       "        vertical-align: top;\n",
       "    }\n",
       "\n",
       "    .dataframe thead th {\n",
       "        text-align: right;\n",
       "    }\n",
       "</style>\n",
       "<table border=\"1\" class=\"dataframe\">\n",
       "  <thead>\n",
       "    <tr style=\"text-align: right;\">\n",
       "      <th></th>\n",
       "      <th>a</th>\n",
       "      <th>b</th>\n",
       "      <th>c</th>\n",
       "      <th>sex_M</th>\n",
       "      <th>education_大学</th>\n",
       "      <th>education_小学</th>\n",
       "      <th>education_高中</th>\n",
       "    </tr>\n",
       "  </thead>\n",
       "  <tbody>\n",
       "    <tr>\n",
       "      <th>0</th>\n",
       "      <td>7</td>\n",
       "      <td>3</td>\n",
       "      <td>7</td>\n",
       "      <td>0</td>\n",
       "      <td>0</td>\n",
       "      <td>1</td>\n",
       "      <td>0</td>\n",
       "    </tr>\n",
       "    <tr>\n",
       "      <th>1</th>\n",
       "      <td>2</td>\n",
       "      <td>3</td>\n",
       "      <td>9</td>\n",
       "      <td>1</td>\n",
       "      <td>1</td>\n",
       "      <td>0</td>\n",
       "      <td>0</td>\n",
       "    </tr>\n",
       "    <tr>\n",
       "      <th>2</th>\n",
       "      <td>2</td>\n",
       "      <td>5</td>\n",
       "      <td>6</td>\n",
       "      <td>0</td>\n",
       "      <td>0</td>\n",
       "      <td>0</td>\n",
       "      <td>1</td>\n",
       "    </tr>\n",
       "    <tr>\n",
       "      <th>3</th>\n",
       "      <td>8</td>\n",
       "      <td>9</td>\n",
       "      <td>1</td>\n",
       "      <td>0</td>\n",
       "      <td>0</td>\n",
       "      <td>0</td>\n",
       "      <td>0</td>\n",
       "    </tr>\n",
       "  </tbody>\n",
       "</table>\n",
       "</div>"
      ],
      "text/plain": [
       "   a  b  c  sex_M  education_大学  education_小学  education_高中\n",
       "0  7  3  7      0             0             1             0\n",
       "1  2  3  9      1             1             0             0\n",
       "2  2  5  6      0             0             0             1\n",
       "3  8  9  1      0             0             0             0"
      ]
     },
     "execution_count": 4,
     "metadata": {},
     "output_type": "execute_result"
    }
   ],
   "source": [
    "origin_data = data_df.copy()\n",
    "sex_data = pd.get_dummies(origin_data[\"sex\"])  # 单列数据的处理\n",
    "dummies_data = pd.concat([origin_data, sex_data], axis=1).drop([\"sex\"], axis=1)\n",
    "print(dummies_data)\n",
    "\n",
    "multi_dummies_data = pd.get_dummies(origin_data)  # 自动将所有非数字列进行哑编码\n",
    "print(multi_dummies_data)\n",
    "\n",
    "multi_dummies_data = pd.get_dummies(origin_data[[\"sex\",\"education\"]])  # 手动指明哪些列需要哑编码\n",
    "res = pd.concat([origin_data, multi_dummies_data], axis=1).drop([\"sex\", \"education\"], axis=1)\n",
    "res"
   ]
  },
  {
   "cell_type": "markdown",
   "metadata": {
    "collapsed": true
   },
   "source": [
    "# 3、字典特征提取编码DictVectorizer"
   ]
  },
  {
   "cell_type": "code",
   "execution_count": 6,
   "metadata": {},
   "outputs": [
    {
     "name": "stdout",
     "output_type": "stream",
     "text": [
      "   a  b  c education  sex=F  sex=M\n",
      "0  7  3  7        小学    1.0    0.0\n",
      "1  2  3  9        大学    0.0    1.0\n",
      "2  2  5  6        高中    1.0    0.0\n",
      "3  8  9  1        初中    1.0    0.0\n"
     ]
    },
    {
     "data": {
      "text/html": [
       "<div>\n",
       "<style scoped>\n",
       "    .dataframe tbody tr th:only-of-type {\n",
       "        vertical-align: middle;\n",
       "    }\n",
       "\n",
       "    .dataframe tbody tr th {\n",
       "        vertical-align: top;\n",
       "    }\n",
       "\n",
       "    .dataframe thead th {\n",
       "        text-align: right;\n",
       "    }\n",
       "</style>\n",
       "<table border=\"1\" class=\"dataframe\">\n",
       "  <thead>\n",
       "    <tr style=\"text-align: right;\">\n",
       "      <th></th>\n",
       "      <th>a</th>\n",
       "      <th>b</th>\n",
       "      <th>c</th>\n",
       "      <th>education=初中</th>\n",
       "      <th>education=大学</th>\n",
       "      <th>education=小学</th>\n",
       "      <th>education=高中</th>\n",
       "      <th>sex=F</th>\n",
       "      <th>sex=M</th>\n",
       "    </tr>\n",
       "  </thead>\n",
       "  <tbody>\n",
       "    <tr>\n",
       "      <th>0</th>\n",
       "      <td>7.0</td>\n",
       "      <td>3.0</td>\n",
       "      <td>7.0</td>\n",
       "      <td>0.0</td>\n",
       "      <td>0.0</td>\n",
       "      <td>1.0</td>\n",
       "      <td>0.0</td>\n",
       "      <td>1.0</td>\n",
       "      <td>0.0</td>\n",
       "    </tr>\n",
       "    <tr>\n",
       "      <th>1</th>\n",
       "      <td>2.0</td>\n",
       "      <td>3.0</td>\n",
       "      <td>9.0</td>\n",
       "      <td>0.0</td>\n",
       "      <td>1.0</td>\n",
       "      <td>0.0</td>\n",
       "      <td>0.0</td>\n",
       "      <td>0.0</td>\n",
       "      <td>1.0</td>\n",
       "    </tr>\n",
       "    <tr>\n",
       "      <th>2</th>\n",
       "      <td>2.0</td>\n",
       "      <td>5.0</td>\n",
       "      <td>6.0</td>\n",
       "      <td>0.0</td>\n",
       "      <td>0.0</td>\n",
       "      <td>0.0</td>\n",
       "      <td>1.0</td>\n",
       "      <td>1.0</td>\n",
       "      <td>0.0</td>\n",
       "    </tr>\n",
       "    <tr>\n",
       "      <th>3</th>\n",
       "      <td>8.0</td>\n",
       "      <td>9.0</td>\n",
       "      <td>1.0</td>\n",
       "      <td>1.0</td>\n",
       "      <td>0.0</td>\n",
       "      <td>0.0</td>\n",
       "      <td>0.0</td>\n",
       "      <td>1.0</td>\n",
       "      <td>0.0</td>\n",
       "    </tr>\n",
       "  </tbody>\n",
       "</table>\n",
       "</div>"
      ],
      "text/plain": [
       "     a    b    c  education=初中  education=大学  education=小学  education=高中  \\\n",
       "0  7.0  3.0  7.0           0.0           0.0           1.0           0.0   \n",
       "1  2.0  3.0  9.0           0.0           1.0           0.0           0.0   \n",
       "2  2.0  5.0  6.0           0.0           0.0           0.0           1.0   \n",
       "3  8.0  9.0  1.0           1.0           0.0           0.0           0.0   \n",
       "\n",
       "   sex=F  sex=M  \n",
       "0    1.0    0.0  \n",
       "1    0.0    1.0  \n",
       "2    1.0    0.0  \n",
       "3    1.0    0.0  "
      ]
     },
     "execution_count": 6,
     "metadata": {},
     "output_type": "execute_result"
    }
   ],
   "source": [
    "from sklearn.feature_extraction import DictVectorizer\n",
    "origin_data = data_df.copy()\n",
    "vec = DictVectorizer(sparse=False) #sparse=False意思是不用稀疏矩阵表示\n",
    "target_data = pd.DataFrame(origin_data[\"sex\"], columns=[\"sex\"])  # 这种方式可以单抽一列或多列\n",
    "vected_data = pd.DataFrame(vec.fit_transform(target_data.to_dict(\"records\")), columns=vec.feature_names_)\n",
    "vected_data = pd.concat([origin_data, vected_data], axis=1).drop([\"sex\"], axis=1)\n",
    "print(vected_data)\n",
    "\n",
    "vected_data = vec.fit_transform(origin_data.to_dict(\"records\"))  # 这种方式是处理所有数据的\n",
    "vected_data = pd.DataFrame(vected_data, columns=vec.feature_names_)\n",
    "vected_data"
   ]
  },
  {
   "cell_type": "markdown",
   "metadata": {},
   "source": [
    "# 4、map映射"
   ]
  },
  {
   "cell_type": "code",
   "execution_count": 34,
   "metadata": {},
   "outputs": [
    {
     "data": {
      "text/html": [
       "<div>\n",
       "<style scoped>\n",
       "    .dataframe tbody tr th:only-of-type {\n",
       "        vertical-align: middle;\n",
       "    }\n",
       "\n",
       "    .dataframe tbody tr th {\n",
       "        vertical-align: top;\n",
       "    }\n",
       "\n",
       "    .dataframe thead th {\n",
       "        text-align: right;\n",
       "    }\n",
       "</style>\n",
       "<table border=\"1\" class=\"dataframe\">\n",
       "  <thead>\n",
       "    <tr style=\"text-align: right;\">\n",
       "      <th></th>\n",
       "      <th>a</th>\n",
       "      <th>b</th>\n",
       "      <th>c</th>\n",
       "      <th>mapped_sex</th>\n",
       "      <th>mapped_education</th>\n",
       "    </tr>\n",
       "  </thead>\n",
       "  <tbody>\n",
       "    <tr>\n",
       "      <th>0</th>\n",
       "      <td>9</td>\n",
       "      <td>6</td>\n",
       "      <td>1</td>\n",
       "      <td>0</td>\n",
       "      <td>0</td>\n",
       "    </tr>\n",
       "    <tr>\n",
       "      <th>1</th>\n",
       "      <td>6</td>\n",
       "      <td>3</td>\n",
       "      <td>9</td>\n",
       "      <td>1</td>\n",
       "      <td>3</td>\n",
       "    </tr>\n",
       "    <tr>\n",
       "      <th>2</th>\n",
       "      <td>8</td>\n",
       "      <td>9</td>\n",
       "      <td>3</td>\n",
       "      <td>0</td>\n",
       "      <td>2</td>\n",
       "    </tr>\n",
       "    <tr>\n",
       "      <th>3</th>\n",
       "      <td>5</td>\n",
       "      <td>7</td>\n",
       "      <td>2</td>\n",
       "      <td>0</td>\n",
       "      <td>1</td>\n",
       "    </tr>\n",
       "  </tbody>\n",
       "</table>\n",
       "</div>"
      ],
      "text/plain": [
       "   a  b  c  mapped_sex  mapped_education\n",
       "0  9  6  1           0                 0\n",
       "1  6  3  9           1                 3\n",
       "2  8  9  3           0                 2\n",
       "3  5  7  2           0                 1"
      ]
     },
     "execution_count": 34,
     "metadata": {},
     "output_type": "execute_result"
    }
   ],
   "source": [
    "origin_data = data_df.copy()\n",
    "sex_map = {label:idx for idx, label in enumerate(set(origin_data['sex']))}  # 这种方式比较简单，不具备数值含义。\n",
    "education_map = {\"小学\":0, \"初中\":1, \"高中\":2, \"大学\":3}  # 这种方式可以自定义数值含义，但取值较多时，稍显繁琐。\n",
    "sex_data = origin_data[\"sex\"].map(sex_map)\n",
    "education_data = origin_data[\"education\"].map(education_map)\n",
    "\n",
    "mapped_data = pd.DataFrame(list(zip(sex_data, education_data)), columns=[\"mapped_sex\", \"mapped_education\"])\n",
    "mapped_data = pd.concat([origin_data, mapped_data], axis=1).drop([\"sex\", \"education\"], axis=1)\n",
    "mapped_data"
   ]
  },
  {
   "cell_type": "markdown",
   "metadata": {
    "collapsed": true
   },
   "source": [
    "# 5、顺序编码OrdinalEncoder ：一般特征专用"
   ]
  },
  {
   "cell_type": "code",
   "execution_count": 47,
   "metadata": {},
   "outputs": [
    {
     "name": "stdout",
     "output_type": "stream",
     "text": [
      "   a  b  c education  order_sex\n",
      "0  9  6  1        小学        0.0\n",
      "1  6  3  9        大学        1.0\n",
      "2  8  9  3        高中        0.0\n",
      "3  5  7  2        初中        0.0\n",
      "   a  b  c  order_sex  order_education\n",
      "0  9  6  1        0.0              2.0\n",
      "1  6  3  9        1.0              1.0\n",
      "2  8  9  3        0.0              3.0\n",
      "3  5  7  2        0.0              0.0\n",
      "     a    b    c  sex  education\n",
      "0  3.0  1.0  0.0  0.0        2.0\n",
      "1  1.0  0.0  3.0  1.0        1.0\n",
      "2  2.0  3.0  2.0  0.0        3.0\n",
      "3  0.0  2.0  1.0  0.0        0.0\n"
     ]
    }
   ],
   "source": [
    "from sklearn.preprocessing import OrdinalEncoder\n",
    "origin_data = data_df.copy()\n",
    "ord_encoder = OrdinalEncoder()\n",
    "ordered_data = ord_encoder.fit_transform(origin_data['sex'].values.reshape(-1, 1))  # 单列操作\n",
    "ordered_data = pd.DataFrame(ordered_data, columns=[\"order_sex\"])\n",
    "ordered_data = pd.concat([origin_data, ordered_data], axis=1).drop([\"sex\"], axis=1)\n",
    "print(ordered_data)\n",
    "\n",
    "ordered_data = ord_encoder.fit_transform(origin_data[['sex',\"education\"]])  # 多列操作\n",
    "ordered_data = pd.DataFrame(ordered_data, columns=[\"order_sex\",\"order_education\"])\n",
    "ordered_data = pd.concat([origin_data, ordered_data], axis=1).drop([\"sex\",\"education\"], axis=1)\n",
    "print(ordered_data)\n",
    "\n",
    "ordered_data = ord_encoder.fit_transform(origin_data)  # 全数据操作,但实际上也只是会对离散型变量进行操作\n",
    "ordered_data = pd.DataFrame(ordered_data, columns=origin_data.columns)\n",
    "print(ordered_data)"
   ]
  },
  {
   "cell_type": "markdown",
   "metadata": {
    "collapsed": true
   },
   "source": [
    "# 6、类别编码Label Encoding ：一般标签专用"
   ]
  },
  {
   "cell_type": "code",
   "execution_count": 60,
   "metadata": {},
   "outputs": [
    {
     "name": "stdout",
     "output_type": "stream",
     "text": [
      "   a  b  c education  labeled_sex\n",
      "0  9  6  1        小学            0\n",
      "1  6  3  9        大学            1\n",
      "2  8  9  3        高中            0\n",
      "3  5  7  2        初中            0\n",
      "   a  b  c sex  labeled_education\n",
      "0  9  6  1   F                  2\n",
      "1  6  3  9   M                  1\n",
      "2  8  9  3   F                  3\n",
      "3  5  7  2   F                  0\n"
     ]
    }
   ],
   "source": [
    "from sklearn.preprocessing import LabelEncoder\n",
    "origin_data = data_df.copy()\n",
    "encoder = LabelEncoder()\n",
    "\n",
    "labeled_data = encoder.fit_transform(origin_data[\"sex\"])\n",
    "labeled_data = pd.DataFrame(labeled_data, columns=[\"labeled_sex\"])  # 处理sex列\n",
    "labeled_data = pd.concat([origin_data, labeled_data], axis=1).drop([\"sex\"], axis=1)\n",
    "print(labeled_data)\n",
    "\n",
    "labeled_data = encoder.fit_transform(origin_data[\"education\"])\n",
    "labeled_data = pd.DataFrame(labeled_data, columns=[\"labeled_education\"])  # 处理education列\n",
    "labeled_data = pd.concat([origin_data, labeled_data], axis=1).drop([\"education\"], axis=1)\n",
    "print(labeled_data)"
   ]
  },
  {
   "cell_type": "code",
   "execution_count": 22,
   "metadata": {},
   "outputs": [
    {
     "name": "stdout",
     "output_type": "stream",
     "text": [
      "0.19.2\n"
     ]
    }
   ],
   "source": [
    "import sklearn\n",
    "print(sklearn.__version__)"
   ]
  },
  {
   "cell_type": "markdown",
   "metadata": {},
   "source": [
    "# 缺失值处理"
   ]
  },
  {
   "cell_type": "code",
   "execution_count": 47,
   "metadata": {},
   "outputs": [],
   "source": [
    "import numpy as np\n",
    "import pandas as pd\n",
    "from  sklearn.ensemble import RandomForestClassifier,RandomForestRegressor\n",
    "from sklearn.impute import SimpleImputer  # 简单填充缺失值的类"
   ]
  },
  {
   "cell_type": "code",
   "execution_count": 76,
   "metadata": {},
   "outputs": [
    {
     "data": {
      "text/html": [
       "<div>\n",
       "<style scoped>\n",
       "    .dataframe tbody tr th:only-of-type {\n",
       "        vertical-align: middle;\n",
       "    }\n",
       "\n",
       "    .dataframe tbody tr th {\n",
       "        vertical-align: top;\n",
       "    }\n",
       "\n",
       "    .dataframe thead th {\n",
       "        text-align: right;\n",
       "    }\n",
       "</style>\n",
       "<table border=\"1\" class=\"dataframe\">\n",
       "  <thead>\n",
       "    <tr style=\"text-align: right;\">\n",
       "      <th></th>\n",
       "      <th>0</th>\n",
       "      <th>1</th>\n",
       "      <th>2</th>\n",
       "      <th>3</th>\n",
       "    </tr>\n",
       "  </thead>\n",
       "  <tbody>\n",
       "    <tr>\n",
       "      <th>0</th>\n",
       "      <td>1.0</td>\n",
       "      <td>2.0</td>\n",
       "      <td>3.0</td>\n",
       "      <td>4.0</td>\n",
       "    </tr>\n",
       "    <tr>\n",
       "      <th>1</th>\n",
       "      <td>2.0</td>\n",
       "      <td>NaN</td>\n",
       "      <td>2.0</td>\n",
       "      <td>2.0</td>\n",
       "    </tr>\n",
       "    <tr>\n",
       "      <th>2</th>\n",
       "      <td>NaN</td>\n",
       "      <td>2.0</td>\n",
       "      <td>3.0</td>\n",
       "      <td>4.0</td>\n",
       "    </tr>\n",
       "    <tr>\n",
       "      <th>3</th>\n",
       "      <td>1.0</td>\n",
       "      <td>2.0</td>\n",
       "      <td>3.0</td>\n",
       "      <td>NaN</td>\n",
       "    </tr>\n",
       "    <tr>\n",
       "      <th>4</th>\n",
       "      <td>1.0</td>\n",
       "      <td>NaN</td>\n",
       "      <td>3.0</td>\n",
       "      <td>4.0</td>\n",
       "    </tr>\n",
       "    <tr>\n",
       "      <th>5</th>\n",
       "      <td>1.0</td>\n",
       "      <td>2.0</td>\n",
       "      <td>NaN</td>\n",
       "      <td>4000.0</td>\n",
       "    </tr>\n",
       "  </tbody>\n",
       "</table>\n",
       "</div>"
      ],
      "text/plain": [
       "     0    1    2       3\n",
       "0  1.0  2.0  3.0     4.0\n",
       "1  2.0  NaN  2.0     2.0\n",
       "2  NaN  2.0  3.0     4.0\n",
       "3  1.0  2.0  3.0     NaN\n",
       "4  1.0  NaN  3.0     4.0\n",
       "5  1.0  2.0  NaN  4000.0"
      ]
     },
     "execution_count": 76,
     "metadata": {},
     "output_type": "execute_result"
    }
   ],
   "source": [
    "missing_value_formats = [\"?\", \"NA\", \"na\", \"--\"]\n",
    "df = pd.read_csv(\"test_data.csv\", na_values = missing_value_formats, header=None)\n",
    "df"
   ]
  },
  {
   "cell_type": "code",
   "execution_count": 71,
   "metadata": {},
   "outputs": [
    {
     "data": {
      "text/html": [
       "<div>\n",
       "<style scoped>\n",
       "    .dataframe tbody tr th:only-of-type {\n",
       "        vertical-align: middle;\n",
       "    }\n",
       "\n",
       "    .dataframe tbody tr th {\n",
       "        vertical-align: top;\n",
       "    }\n",
       "\n",
       "    .dataframe thead th {\n",
       "        text-align: right;\n",
       "    }\n",
       "</style>\n",
       "<table border=\"1\" class=\"dataframe\">\n",
       "  <thead>\n",
       "    <tr style=\"text-align: right;\">\n",
       "      <th></th>\n",
       "      <th>0</th>\n",
       "      <th>1</th>\n",
       "      <th>2</th>\n",
       "      <th>3</th>\n",
       "    </tr>\n",
       "  </thead>\n",
       "  <tbody>\n",
       "    <tr>\n",
       "      <th>0</th>\n",
       "      <td>1.0</td>\n",
       "      <td>2.0</td>\n",
       "      <td>3.0</td>\n",
       "      <td>4.0</td>\n",
       "    </tr>\n",
       "  </tbody>\n",
       "</table>\n",
       "</div>"
      ],
      "text/plain": [
       "     0    1    2    3\n",
       "0  1.0  2.0  3.0  4.0"
      ]
     },
     "execution_count": 71,
     "metadata": {},
     "output_type": "execute_result"
    }
   ],
   "source": [
    "# 删除存在空值的所有样本\n",
    "drop_row_df = df.dropna(inplace=False)\n",
    "drop_row_df"
   ]
  },
  {
   "cell_type": "code",
   "execution_count": 72,
   "metadata": {},
   "outputs": [
    {
     "data": {
      "text/html": [
       "<div>\n",
       "<style scoped>\n",
       "    .dataframe tbody tr th:only-of-type {\n",
       "        vertical-align: middle;\n",
       "    }\n",
       "\n",
       "    .dataframe tbody tr th {\n",
       "        vertical-align: top;\n",
       "    }\n",
       "\n",
       "    .dataframe thead th {\n",
       "        text-align: right;\n",
       "    }\n",
       "</style>\n",
       "<table border=\"1\" class=\"dataframe\">\n",
       "  <thead>\n",
       "    <tr style=\"text-align: right;\">\n",
       "      <th></th>\n",
       "      <th>0</th>\n",
       "      <th>1</th>\n",
       "      <th>2</th>\n",
       "      <th>3</th>\n",
       "    </tr>\n",
       "  </thead>\n",
       "  <tbody>\n",
       "    <tr>\n",
       "      <th>0</th>\n",
       "      <td>1.0</td>\n",
       "      <td>2.0</td>\n",
       "      <td>3.0</td>\n",
       "      <td>4.0</td>\n",
       "    </tr>\n",
       "    <tr>\n",
       "      <th>3</th>\n",
       "      <td>1.0</td>\n",
       "      <td>2.0</td>\n",
       "      <td>3.0</td>\n",
       "      <td>NaN</td>\n",
       "    </tr>\n",
       "  </tbody>\n",
       "</table>\n",
       "</div>"
      ],
      "text/plain": [
       "     0    1    2    3\n",
       "0  1.0  2.0  3.0  4.0\n",
       "3  1.0  2.0  3.0  NaN"
      ]
     },
     "execution_count": 72,
     "metadata": {},
     "output_type": "execute_result"
    }
   ],
   "source": [
    "# 删除指定列存在空值的样本\n",
    "drop_column_df = df.dropna(subset=[0,1,2], inplace=False)\n",
    "drop_column_df"
   ]
  },
  {
   "cell_type": "code",
   "execution_count": 73,
   "metadata": {
    "scrolled": true
   },
   "outputs": [
    {
     "data": {
      "text/html": [
       "<div>\n",
       "<style scoped>\n",
       "    .dataframe tbody tr th:only-of-type {\n",
       "        vertical-align: middle;\n",
       "    }\n",
       "\n",
       "    .dataframe tbody tr th {\n",
       "        vertical-align: top;\n",
       "    }\n",
       "\n",
       "    .dataframe thead th {\n",
       "        text-align: right;\n",
       "    }\n",
       "</style>\n",
       "<table border=\"1\" class=\"dataframe\">\n",
       "  <thead>\n",
       "    <tr style=\"text-align: right;\">\n",
       "      <th></th>\n",
       "      <th>0</th>\n",
       "      <th>1</th>\n",
       "      <th>2</th>\n",
       "      <th>3</th>\n",
       "    </tr>\n",
       "  </thead>\n",
       "  <tbody>\n",
       "    <tr>\n",
       "      <th>0</th>\n",
       "      <td>1.0</td>\n",
       "      <td>2.0</td>\n",
       "      <td>3.0</td>\n",
       "      <td>4.0</td>\n",
       "    </tr>\n",
       "    <tr>\n",
       "      <th>1</th>\n",
       "      <td>2.0</td>\n",
       "      <td>2.0</td>\n",
       "      <td>2.0</td>\n",
       "      <td>2.0</td>\n",
       "    </tr>\n",
       "    <tr>\n",
       "      <th>2</th>\n",
       "      <td>1.2</td>\n",
       "      <td>2.0</td>\n",
       "      <td>3.0</td>\n",
       "      <td>4.0</td>\n",
       "    </tr>\n",
       "    <tr>\n",
       "      <th>3</th>\n",
       "      <td>1.0</td>\n",
       "      <td>2.0</td>\n",
       "      <td>3.0</td>\n",
       "      <td>0.0</td>\n",
       "    </tr>\n",
       "    <tr>\n",
       "      <th>4</th>\n",
       "      <td>1.0</td>\n",
       "      <td>2.0</td>\n",
       "      <td>3.0</td>\n",
       "      <td>4.0</td>\n",
       "    </tr>\n",
       "    <tr>\n",
       "      <th>5</th>\n",
       "      <td>1.0</td>\n",
       "      <td>2.0</td>\n",
       "      <td>3.0</td>\n",
       "      <td>4000.0</td>\n",
       "    </tr>\n",
       "  </tbody>\n",
       "</table>\n",
       "</div>"
      ],
      "text/plain": [
       "     0    1    2       3\n",
       "0  1.0  2.0  3.0     4.0\n",
       "1  2.0  2.0  2.0     2.0\n",
       "2  1.2  2.0  3.0     4.0\n",
       "3  1.0  2.0  3.0     0.0\n",
       "4  1.0  2.0  3.0     4.0\n",
       "5  1.0  2.0  3.0  4000.0"
      ]
     },
     "execution_count": 73,
     "metadata": {},
     "output_type": "execute_result"
    }
   ],
   "source": [
    "# 使用均值、中位数、众数以及0填充\n",
    "df_new = df.copy()\n",
    "df_new[0] = df_new[0].fillna(df_new[0].mean())      # 第0列以均值填充\n",
    "df_new[1] = df_new[1].fillna(df_new[1].median())    # 第1列以中位数填充\n",
    "df_new[2] = df_new[2].fillna(df_new[2].mode()[0])   # 第2列以众数填充\n",
    "df_new[3] = df_new[3].fillna(0)                     # 第3列以0填充\n",
    "df_new"
   ]
  },
  {
   "cell_type": "code",
   "execution_count": 74,
   "metadata": {},
   "outputs": [
    {
     "data": {
      "text/html": [
       "<div>\n",
       "<style scoped>\n",
       "    .dataframe tbody tr th:only-of-type {\n",
       "        vertical-align: middle;\n",
       "    }\n",
       "\n",
       "    .dataframe tbody tr th {\n",
       "        vertical-align: top;\n",
       "    }\n",
       "\n",
       "    .dataframe thead th {\n",
       "        text-align: right;\n",
       "    }\n",
       "</style>\n",
       "<table border=\"1\" class=\"dataframe\">\n",
       "  <thead>\n",
       "    <tr style=\"text-align: right;\">\n",
       "      <th></th>\n",
       "      <th>0</th>\n",
       "      <th>1</th>\n",
       "      <th>2</th>\n",
       "      <th>3</th>\n",
       "    </tr>\n",
       "  </thead>\n",
       "  <tbody>\n",
       "    <tr>\n",
       "      <th>0</th>\n",
       "      <td>1.0</td>\n",
       "      <td>2.0</td>\n",
       "      <td>3.0</td>\n",
       "      <td>4.0</td>\n",
       "    </tr>\n",
       "    <tr>\n",
       "      <th>1</th>\n",
       "      <td>2.0</td>\n",
       "      <td>2.0</td>\n",
       "      <td>2.0</td>\n",
       "      <td>2.0</td>\n",
       "    </tr>\n",
       "    <tr>\n",
       "      <th>2</th>\n",
       "      <td>2.0</td>\n",
       "      <td>2.0</td>\n",
       "      <td>3.0</td>\n",
       "      <td>4.0</td>\n",
       "    </tr>\n",
       "    <tr>\n",
       "      <th>3</th>\n",
       "      <td>1.0</td>\n",
       "      <td>2.0</td>\n",
       "      <td>3.0</td>\n",
       "      <td>4.0</td>\n",
       "    </tr>\n",
       "    <tr>\n",
       "      <th>4</th>\n",
       "      <td>1.0</td>\n",
       "      <td>2.0</td>\n",
       "      <td>3.0</td>\n",
       "      <td>4.0</td>\n",
       "    </tr>\n",
       "    <tr>\n",
       "      <th>5</th>\n",
       "      <td>1.0</td>\n",
       "      <td>2.0</td>\n",
       "      <td>3.0</td>\n",
       "      <td>4000.0</td>\n",
       "    </tr>\n",
       "  </tbody>\n",
       "</table>\n",
       "</div>"
      ],
      "text/plain": [
       "     0    1    2       3\n",
       "0  1.0  2.0  3.0     4.0\n",
       "1  2.0  2.0  2.0     2.0\n",
       "2  2.0  2.0  3.0     4.0\n",
       "3  1.0  2.0  3.0     4.0\n",
       "4  1.0  2.0  3.0     4.0\n",
       "5  1.0  2.0  3.0  4000.0"
      ]
     },
     "execution_count": 74,
     "metadata": {},
     "output_type": "execute_result"
    }
   ],
   "source": [
    "# 使用前向就近填充、后向就近填充、线性填充以及立方插值法填充\n",
    "df_two = df.copy()\n",
    "df_two[0] = df_two[0].fillna(method=\"ffill\")        # 第0列以前向填充\n",
    "df_two[1] = df_two[1].fillna(method=\"pad\")          # 第1列以后向填充\n",
    "df_two[2] = df_two[2].interpolate(method='linear')  # 第2列使用线性方法填充\n",
    "df_two[3] = df_two[3].interpolate(method='pchip')   # 第3列以立方插值法填充，其他方式，可查看interpolate的API文档\n",
    "df_two"
   ]
  },
  {
   "cell_type": "code",
   "execution_count": 75,
   "metadata": {},
   "outputs": [
    {
     "data": {
      "text/html": [
       "<div>\n",
       "<style scoped>\n",
       "    .dataframe tbody tr th:only-of-type {\n",
       "        vertical-align: middle;\n",
       "    }\n",
       "\n",
       "    .dataframe tbody tr th {\n",
       "        vertical-align: top;\n",
       "    }\n",
       "\n",
       "    .dataframe thead th {\n",
       "        text-align: right;\n",
       "    }\n",
       "</style>\n",
       "<table border=\"1\" class=\"dataframe\">\n",
       "  <thead>\n",
       "    <tr style=\"text-align: right;\">\n",
       "      <th></th>\n",
       "      <th>0</th>\n",
       "      <th>1</th>\n",
       "      <th>2</th>\n",
       "      <th>3</th>\n",
       "    </tr>\n",
       "  </thead>\n",
       "  <tbody>\n",
       "    <tr>\n",
       "      <th>0</th>\n",
       "      <td>1.00</td>\n",
       "      <td>2.0</td>\n",
       "      <td>3.0</td>\n",
       "      <td>4.000</td>\n",
       "    </tr>\n",
       "    <tr>\n",
       "      <th>1</th>\n",
       "      <td>2.00</td>\n",
       "      <td>2.0</td>\n",
       "      <td>2.0</td>\n",
       "      <td>2.000</td>\n",
       "    </tr>\n",
       "    <tr>\n",
       "      <th>2</th>\n",
       "      <td>1.04</td>\n",
       "      <td>2.0</td>\n",
       "      <td>3.0</td>\n",
       "      <td>4.000</td>\n",
       "    </tr>\n",
       "    <tr>\n",
       "      <th>3</th>\n",
       "      <td>1.00</td>\n",
       "      <td>2.0</td>\n",
       "      <td>3.0</td>\n",
       "      <td>1318.684</td>\n",
       "    </tr>\n",
       "    <tr>\n",
       "      <th>4</th>\n",
       "      <td>1.00</td>\n",
       "      <td>2.0</td>\n",
       "      <td>3.0</td>\n",
       "      <td>4.000</td>\n",
       "    </tr>\n",
       "    <tr>\n",
       "      <th>5</th>\n",
       "      <td>1.00</td>\n",
       "      <td>2.0</td>\n",
       "      <td>3.0</td>\n",
       "      <td>4000.000</td>\n",
       "    </tr>\n",
       "  </tbody>\n",
       "</table>\n",
       "</div>"
      ],
      "text/plain": [
       "      0    1    2         3\n",
       "0  1.00  2.0  3.0     4.000\n",
       "1  2.00  2.0  2.0     2.000\n",
       "2  1.04  2.0  3.0     4.000\n",
       "3  1.00  2.0  3.0  1318.684\n",
       "4  1.00  2.0  3.0     4.000\n",
       "5  1.00  2.0  3.0  4000.000"
      ]
     },
     "execution_count": 75,
     "metadata": {},
     "output_type": "execute_result"
    }
   ],
   "source": [
    "# 使用随机森林预测法填充缺失值\n",
    "df_three = df.copy()\n",
    "\n",
    "def fill_dependents_missing(data, fill_column, y_label = None):\n",
    "    local_df = data.copy()\n",
    "    fillc = df.iloc[:, fill_column]   # 某个需要填充的列，索引为i\n",
    "\n",
    "    # 没有被选中填充（!=）的特征与原始标签的连接起来；df就是新特征矩阵\n",
    "    if y_label:\n",
    "        local_df = df.iloc[:, local_df.columns != fill_column]\n",
    "    else:# 如果有标签y_label列，则按下拼接\n",
    "        local_df = pd.concat([local_df.iloc[:, local_df.columns != fill_column], pd.DataFrame(y_label)], axis=1) \n",
    "\n",
    "    # 新的特征矩阵df中，对含有缺失值的列，进行0的填补\n",
    "    temp_df = SimpleImputer(missing_values=np.nan, strategy='constant', fill_value=0).fit_transform(local_df)\n",
    "\n",
    "    # 找出训练集和测试集\n",
    "    ytrain = fillc[fillc.notnull()]  # 被选中填充的特征矩阵T中的非空值\n",
    "    ytest = fillc[fillc.isnull()]  # 被选中填充的特征矩阵T中的空值\n",
    "    Xtrain = temp_df[ytrain.index, :]  # 新特征矩阵上，被选出来要填充的特征的非空值对应的记录\n",
    "    Xtest = temp_df[ytest.index, :]   # 空值对应的记录\n",
    "\n",
    "    # 随机森林填充缺失值\n",
    "    rfc = RandomForestRegressor(n_estimators=100)\n",
    "    rfc = rfc.fit(Xtrain, ytrain)\n",
    "    y_predict = rfc.predict(Xtest)  # predict接口预测得到的结果就是用来填充空值的那些值\n",
    "\n",
    "    # 将填补好的特征返回到我们的原始特征矩阵中\n",
    "    data.loc[data.iloc[:, fill_column].isnull(), fill_column] = y_predict\n",
    "\n",
    "# 对数据缺失的列依次进行缺失值预测填充\n",
    "# 也可以进行固定缺失列的筛选：pd.DataFrame(df).isnull().sum()\n",
    "for column in df_three.columns:\n",
    "    fill_dependents_missing(df_three, column)\n",
    "df_three"
   ]
  },
  {
   "cell_type": "markdown",
   "metadata": {},
   "source": [
    "# 特征降维"
   ]
  },
  {
   "cell_type": "code",
   "execution_count": 6,
   "metadata": {},
   "outputs": [],
   "source": [
    "from sklearn.decomposition import PCA,KernelPCA\n",
    "from sklearn.discriminant_analysis import LinearDiscriminantAnalysis as LDA\n",
    "import pandas as pd\n",
    "import numpy as np\n",
    "import matplotlib.pyplot as plt\n",
    "from sklearn.datasets import  load_iris"
   ]
  },
  {
   "cell_type": "code",
   "execution_count": 10,
   "metadata": {},
   "outputs": [
    {
     "name": "stdout",
     "output_type": "stream",
     "text": [
      "(150, 2)\n"
     ]
    },
    {
     "data": {
      "image/png": "[encoded data removed]",
      "text/plain": [
       "<Figure size 432x288 with 1 Axes>"
      ]
     },
     "metadata": {
      "needs_background": "light"
     },
     "output_type": "display_data"
    }
   ],
   "source": [
    "# PCA降维，将鸢尾花数据降维成2维数据，然后做可视化分析\n",
    "iris_data = load_iris()\n",
    "category = pd.Categorical(iris_data.target)  # 将标签进行量化，将字符串量化成1，2，3类等\n",
    "\n",
    "pca_2c = PCA(n_components=2)  # 使用PCA降到2维\n",
    "# pca_2c = KernelPCA(n_components=2)  # 这里两种方式都OK\n",
    "\n",
    "x_pca_2c = pca_2c.fit_transform(iris_data.data)\n",
    "print(x_pca_2c.shape)\n",
    "plt.scatter(x_pca_2c[:,0],x_pca_2c[:,1],c=category.codes)\n",
    "plt.show()"
   ]
  },
  {
   "cell_type": "code",
   "execution_count": 11,
   "metadata": {},
   "outputs": [
    {
     "name": "stdout",
     "output_type": "stream",
     "text": [
      "(150, 2)\n"
     ]
    },
    {
     "data": {
      "image/png": "[encoded data removed]",
      "text/plain": [
       "<Figure size 432x288 with 1 Axes>"
      ]
     },
     "metadata": {
      "needs_background": "light"
     },
     "output_type": "display_data"
    }
   ],
   "source": [
    "# LDA降维，将鸢尾花数据降维成2维数据，然后做可视化分析\n",
    "iris_data = load_iris()\n",
    "category = pd.Categorical(iris_data.target)  # 将标签进行量化，将字符串量化成1，2，3类等\n",
    "\n",
    "lda_2c = LDA(n_components=2)\n",
    "x_lda_2c = lda_2c.fit_transform(iris_data.data,iris_data.target)\n",
    "print(x_lda_2c.shape)\n",
    "plt.scatter(x_lda_2c[:,0],x_lda_2c[:,1],c=category.codes)\n",
    "plt.show()"
   ]
  },
  {
   "cell_type": "markdown",
   "metadata": {},
   "source": [
    "# 异常检测"
   ]
  },
  {
   "cell_type": "code",
   "execution_count": 106,
   "metadata": {},
   "outputs": [],
   "source": [
    "import numpy as np\n",
    "import pandas as pd\n",
    "import matplotlib.pyplot as plt"
   ]
  },
  {
   "cell_type": "code",
   "execution_count": 107,
   "metadata": {},
   "outputs": [
    {
     "data": {
      "text/plain": [
       "(array([1.000e+00, 1.000e+00, 8.000e+00, 1.900e+01, 3.600e+01, 5.500e+01,\n",
       "        1.060e+02, 1.670e+02, 3.060e+02, 4.310e+02, 5.320e+02, 7.470e+02,\n",
       "        8.130e+02, 9.350e+02, 1.085e+03, 1.015e+03, 8.770e+02, 7.960e+02,\n",
       "        6.460e+02, 4.680e+02, 3.650e+02, 2.480e+02, 1.520e+02, 8.700e+01,\n",
       "        5.200e+01, 3.000e+01, 1.500e+01, 4.000e+00, 2.000e+00, 1.000e+00]),\n",
       " array([2.62598994, 2.65112914, 2.67626834, 2.70140754, 2.72654675,\n",
       "        2.75168595, 2.77682515, 2.80196436, 2.82710356, 2.85224276,\n",
       "        2.87738196, 2.90252117, 2.92766037, 2.95279957, 2.97793878,\n",
       "        3.00307798, 3.02821718, 3.05335638, 3.07849559, 3.10363479,\n",
       "        3.12877399, 3.1539132 , 3.1790524 , 3.2041916 , 3.2293308 ,\n",
       "        3.25447001, 3.27960921, 3.30474841, 3.32988762, 3.35502682,\n",
       "        3.38016602]),\n",
       " <BarContainer object of 30 artists>)"
      ]
     },
     "execution_count": 107,
     "metadata": {},
     "output_type": "execute_result"
    },
    {
     "data": {
      "image/png": "[encoded data removed]",
      "text/plain": [
       "<Figure size 432x288 with 1 Axes>"
      ]
     },
     "metadata": {
      "needs_background": "light"
     },
     "output_type": "display_data"
    }
   ],
   "source": [
    "# 造一个均值为3，标准差为0.1的正态分布数组\n",
    "mu = 3\n",
    "sigma = 0.1\n",
    "sampleNo = 10000;\n",
    "np.random.seed(0)\n",
    "sample_data = np.random.normal(mu, sigma, sampleNo)\n",
    "plt.hist(sample_data, 30)"
   ]
  },
  {
   "cell_type": "code",
   "execution_count": 108,
   "metadata": {},
   "outputs": [
    {
     "data": {
      "text/plain": [
       "array([112.        ,   3.1867558 ,   3.0978738 ,   2.90227221,\n",
       "         3.03130677,   2.98967811,   3.04105985,   3.04438632,\n",
       "         3.0121675 ,   3.22408932,   3.04001572,   3.14940791,\n",
       "         3.17640523, 628.        ,   3.03336743,   3.07610377,\n",
       "       517.        ,   3.01440436,   3.09500884,   2.91459043,\n",
       "         2.98486428,   2.97948417,   3.14542735])"
      ]
     },
     "execution_count": 108,
     "metadata": {},
     "output_type": "execute_result"
    }
   ],
   "source": [
    "# 从正态分布数组中获取20个数，并串接上3个大于100，小于1000的异常值\n",
    "test_data = np.append(sample_data[:20], np.random.randint(100,1000,3))\n",
    "np.random.shuffle(test_data)  # 打乱数组顺序\n",
    "test_data"
   ]
  },
  {
   "cell_type": "code",
   "execution_count": 110,
   "metadata": {},
   "outputs": [
    {
     "name": "stdout",
     "output_type": "stream",
     "text": [
      "2sigma找出的异常值： {14: 3.5367215761578925, 17: 2.8488238484305586}\n",
      "3sigma找出的异常值： {14: 3.5367215761578925}\n"
     ]
    },
    {
     "data": {
      "image/png": "[encoded data removed]",
      "text/plain": [
       "<Figure size 432x288 with 3 Axes>"
      ]
     },
     "metadata": {
      "needs_background": "light"
     },
     "output_type": "display_data"
    }
   ],
   "source": [
    "# 3sigma原则找异常值    2sigma：0.9544   3sigma:0.9974\n",
    "new_test_data = test_data.copy()\n",
    "\n",
    "# 将数据进行减均值，然后除上标准差，也就是将正态分布转标准正态分布。此时整体数据均值为0，方差为1。n*sigma也就等于n\n",
    "new_mu, new_std = np.mean(new_test_data), np.std(new_test_data)\n",
    "new_test_data = [(each-new_mu)/new_std for each in new_test_data]\n",
    "two_sigma_number = {idx+1:each for idx, each in enumerate(new_test_data) if np.abs(each) > 2}\n",
    "three_sigma_number = {idx+1:each for idx, each in enumerate(new_test_data) if np.abs(each) > 3}\n",
    "\n",
    "# 这里画三幅图，左边是原始数据，右边是分别根据2sigma和3sigma标注出异常点。\n",
    "fig = plt.figure()\n",
    "ax1 = fig.add_subplot(2, 2, 1) # 在画图区间内，定义2行2列plot子图中的第1个子图\n",
    "ax2 = fig.add_subplot(2, 2, 2) # 定义2行2列plot子图中的第2个子图\n",
    "ax3 = fig.add_subplot(2, 2, 4) # 定义2行2列plot子图中的第4个子图\n",
    "\n",
    "x_num = np.array(range(1,23+1,1))\n",
    "ax1.plot(x_num, new_test_data, \"--\")\n",
    "ax2.plot(x_num, new_test_data, \"--\")\n",
    "ax3.plot(x_num, new_test_data, \"--\")\n",
    "ax2.plot(two_sigma_number.keys(), two_sigma_number.values(), \"rx\")  # 可以看出，用2sigma可以找出两个异常点\n",
    "ax3.plot(three_sigma_number.keys(), three_sigma_number.values(), \"rx\")  # 用3sigma只能找到一个异常点\n",
    "\n",
    "print(\"2sigma找出的异常值：\", two_sigma_number)\n",
    "print(\"3sigma找出的异常值：\", three_sigma_number)"
   ]
  },
  {
   "cell_type": "code",
   "execution_count": 143,
   "metadata": {},
   "outputs": [
    {
     "data": {
      "text/html": [
       "<div>\n",
       "<style scoped>\n",
       "    .dataframe tbody tr th:only-of-type {\n",
       "        vertical-align: middle;\n",
       "    }\n",
       "\n",
       "    .dataframe tbody tr th {\n",
       "        vertical-align: top;\n",
       "    }\n",
       "\n",
       "    .dataframe thead th {\n",
       "        text-align: right;\n",
       "    }\n",
       "</style>\n",
       "<table border=\"1\" class=\"dataframe\">\n",
       "  <thead>\n",
       "    <tr style=\"text-align: right;\">\n",
       "      <th></th>\n",
       "      <th>number</th>\n",
       "    </tr>\n",
       "  </thead>\n",
       "  <tbody>\n",
       "    <tr>\n",
       "      <th>0</th>\n",
       "      <td>112.000000</td>\n",
       "    </tr>\n",
       "    <tr>\n",
       "      <th>1</th>\n",
       "      <td>3.186756</td>\n",
       "    </tr>\n",
       "    <tr>\n",
       "      <th>2</th>\n",
       "      <td>3.097874</td>\n",
       "    </tr>\n",
       "    <tr>\n",
       "      <th>3</th>\n",
       "      <td>2.902272</td>\n",
       "    </tr>\n",
       "    <tr>\n",
       "      <th>4</th>\n",
       "      <td>3.031307</td>\n",
       "    </tr>\n",
       "    <tr>\n",
       "      <th>5</th>\n",
       "      <td>2.989678</td>\n",
       "    </tr>\n",
       "    <tr>\n",
       "      <th>6</th>\n",
       "      <td>3.041060</td>\n",
       "    </tr>\n",
       "    <tr>\n",
       "      <th>7</th>\n",
       "      <td>3.044386</td>\n",
       "    </tr>\n",
       "    <tr>\n",
       "      <th>8</th>\n",
       "      <td>3.012168</td>\n",
       "    </tr>\n",
       "    <tr>\n",
       "      <th>9</th>\n",
       "      <td>3.224089</td>\n",
       "    </tr>\n",
       "    <tr>\n",
       "      <th>10</th>\n",
       "      <td>3.040016</td>\n",
       "    </tr>\n",
       "    <tr>\n",
       "      <th>11</th>\n",
       "      <td>3.149408</td>\n",
       "    </tr>\n",
       "    <tr>\n",
       "      <th>12</th>\n",
       "      <td>3.176405</td>\n",
       "    </tr>\n",
       "    <tr>\n",
       "      <th>13</th>\n",
       "      <td>628.000000</td>\n",
       "    </tr>\n",
       "    <tr>\n",
       "      <th>14</th>\n",
       "      <td>3.033367</td>\n",
       "    </tr>\n",
       "    <tr>\n",
       "      <th>15</th>\n",
       "      <td>3.076104</td>\n",
       "    </tr>\n",
       "    <tr>\n",
       "      <th>16</th>\n",
       "      <td>517.000000</td>\n",
       "    </tr>\n",
       "    <tr>\n",
       "      <th>17</th>\n",
       "      <td>3.014404</td>\n",
       "    </tr>\n",
       "    <tr>\n",
       "      <th>18</th>\n",
       "      <td>3.095009</td>\n",
       "    </tr>\n",
       "    <tr>\n",
       "      <th>19</th>\n",
       "      <td>2.914590</td>\n",
       "    </tr>\n",
       "    <tr>\n",
       "      <th>20</th>\n",
       "      <td>2.984864</td>\n",
       "    </tr>\n",
       "    <tr>\n",
       "      <th>21</th>\n",
       "      <td>2.979484</td>\n",
       "    </tr>\n",
       "    <tr>\n",
       "      <th>22</th>\n",
       "      <td>3.145427</td>\n",
       "    </tr>\n",
       "  </tbody>\n",
       "</table>\n",
       "</div>"
      ],
      "text/plain": [
       "        number\n",
       "0   112.000000\n",
       "1     3.186756\n",
       "2     3.097874\n",
       "3     2.902272\n",
       "4     3.031307\n",
       "5     2.989678\n",
       "6     3.041060\n",
       "7     3.044386\n",
       "8     3.012168\n",
       "9     3.224089\n",
       "10    3.040016\n",
       "11    3.149408\n",
       "12    3.176405\n",
       "13  628.000000\n",
       "14    3.033367\n",
       "15    3.076104\n",
       "16  517.000000\n",
       "17    3.014404\n",
       "18    3.095009\n",
       "19    2.914590\n",
       "20    2.984864\n",
       "21    2.979484\n",
       "22    3.145427"
      ]
     },
     "execution_count": 143,
     "metadata": {},
     "output_type": "execute_result"
    }
   ],
   "source": [
    "# 数据转pd格式，方便观察\n",
    "test_data_df = pd.DataFrame(test_data.copy())\n",
    "test_data_df.columns = [\"number\"]\n",
    "test_data_df"
   ]
  },
  {
   "cell_type": "code",
   "execution_count": 94,
   "metadata": {},
   "outputs": [
    {
     "data": {
      "text/plain": [
       "<AxesSubplot:>"
      ]
     },
     "execution_count": 94,
     "metadata": {},
     "output_type": "execute_result"
    },
    {
     "data": {
      "image/png": "[encoded data removed]",
      "text/plain": [
       "<Figure size 432x288 with 1 Axes>"
      ]
     },
     "metadata": {
      "needs_background": "light"
     },
     "output_type": "display_data"
    }
   ],
   "source": [
    "# 使用箱线图找异常值\n",
    "new_test_data_df = test_data_df.copy()\n",
    "# 这里为了让数据稍微直观美观些， 让异常值距离均值3偏离不是那么远，所以将大于100的数对100进行整除\n",
    "new_test_data_df[\"number\"] = new_test_data_df[\"number\"].apply(lambda x: (x // 100) if x > 100 else x)  \n",
    "# 先直观画图感受一下异常值点\n",
    "new_test_data_df.boxplot()  # 当有多列时，可以通过column来指定目标列"
   ]
  },
  {
   "cell_type": "code",
   "execution_count": 95,
   "metadata": {},
   "outputs": [
    {
     "name": "stdout",
     "output_type": "stream",
     "text": [
      "异常值： [1.0, 6.0, 5.0]\n"
     ]
    },
    {
     "data": {
      "text/html": [
       "<div>\n",
       "<style scoped>\n",
       "    .dataframe tbody tr th:only-of-type {\n",
       "        vertical-align: middle;\n",
       "    }\n",
       "\n",
       "    .dataframe tbody tr th {\n",
       "        vertical-align: top;\n",
       "    }\n",
       "\n",
       "    .dataframe thead th {\n",
       "        text-align: right;\n",
       "    }\n",
       "</style>\n",
       "<table border=\"1\" class=\"dataframe\">\n",
       "  <thead>\n",
       "    <tr style=\"text-align: right;\">\n",
       "      <th></th>\n",
       "      <th>number</th>\n",
       "      <th>number_result</th>\n",
       "    </tr>\n",
       "  </thead>\n",
       "  <tbody>\n",
       "    <tr>\n",
       "      <th>0</th>\n",
       "      <td>1.000000</td>\n",
       "      <td>1</td>\n",
       "    </tr>\n",
       "    <tr>\n",
       "      <th>1</th>\n",
       "      <td>3.186756</td>\n",
       "      <td>0</td>\n",
       "    </tr>\n",
       "    <tr>\n",
       "      <th>2</th>\n",
       "      <td>3.097874</td>\n",
       "      <td>0</td>\n",
       "    </tr>\n",
       "    <tr>\n",
       "      <th>3</th>\n",
       "      <td>2.902272</td>\n",
       "      <td>0</td>\n",
       "    </tr>\n",
       "    <tr>\n",
       "      <th>4</th>\n",
       "      <td>3.031307</td>\n",
       "      <td>0</td>\n",
       "    </tr>\n",
       "    <tr>\n",
       "      <th>5</th>\n",
       "      <td>2.989678</td>\n",
       "      <td>0</td>\n",
       "    </tr>\n",
       "    <tr>\n",
       "      <th>6</th>\n",
       "      <td>3.041060</td>\n",
       "      <td>0</td>\n",
       "    </tr>\n",
       "    <tr>\n",
       "      <th>7</th>\n",
       "      <td>3.044386</td>\n",
       "      <td>0</td>\n",
       "    </tr>\n",
       "    <tr>\n",
       "      <th>8</th>\n",
       "      <td>3.012168</td>\n",
       "      <td>0</td>\n",
       "    </tr>\n",
       "    <tr>\n",
       "      <th>9</th>\n",
       "      <td>3.224089</td>\n",
       "      <td>0</td>\n",
       "    </tr>\n",
       "    <tr>\n",
       "      <th>10</th>\n",
       "      <td>3.040016</td>\n",
       "      <td>0</td>\n",
       "    </tr>\n",
       "    <tr>\n",
       "      <th>11</th>\n",
       "      <td>3.149408</td>\n",
       "      <td>0</td>\n",
       "    </tr>\n",
       "    <tr>\n",
       "      <th>12</th>\n",
       "      <td>3.176405</td>\n",
       "      <td>0</td>\n",
       "    </tr>\n",
       "    <tr>\n",
       "      <th>13</th>\n",
       "      <td>6.000000</td>\n",
       "      <td>1</td>\n",
       "    </tr>\n",
       "    <tr>\n",
       "      <th>14</th>\n",
       "      <td>3.033367</td>\n",
       "      <td>0</td>\n",
       "    </tr>\n",
       "    <tr>\n",
       "      <th>15</th>\n",
       "      <td>3.076104</td>\n",
       "      <td>0</td>\n",
       "    </tr>\n",
       "    <tr>\n",
       "      <th>16</th>\n",
       "      <td>5.000000</td>\n",
       "      <td>1</td>\n",
       "    </tr>\n",
       "    <tr>\n",
       "      <th>17</th>\n",
       "      <td>3.014404</td>\n",
       "      <td>0</td>\n",
       "    </tr>\n",
       "    <tr>\n",
       "      <th>18</th>\n",
       "      <td>3.095009</td>\n",
       "      <td>0</td>\n",
       "    </tr>\n",
       "    <tr>\n",
       "      <th>19</th>\n",
       "      <td>2.914590</td>\n",
       "      <td>0</td>\n",
       "    </tr>\n",
       "    <tr>\n",
       "      <th>20</th>\n",
       "      <td>2.984864</td>\n",
       "      <td>0</td>\n",
       "    </tr>\n",
       "    <tr>\n",
       "      <th>21</th>\n",
       "      <td>2.979484</td>\n",
       "      <td>0</td>\n",
       "    </tr>\n",
       "    <tr>\n",
       "      <th>22</th>\n",
       "      <td>3.145427</td>\n",
       "      <td>0</td>\n",
       "    </tr>\n",
       "  </tbody>\n",
       "</table>\n",
       "</div>"
      ],
      "text/plain": [
       "      number number_result\n",
       "0   1.000000             1\n",
       "1   3.186756             0\n",
       "2   3.097874             0\n",
       "3   2.902272             0\n",
       "4   3.031307             0\n",
       "5   2.989678             0\n",
       "6   3.041060             0\n",
       "7   3.044386             0\n",
       "8   3.012168             0\n",
       "9   3.224089             0\n",
       "10  3.040016             0\n",
       "11  3.149408             0\n",
       "12  3.176405             0\n",
       "13  6.000000             1\n",
       "14  3.033367             0\n",
       "15  3.076104             0\n",
       "16  5.000000             1\n",
       "17  3.014404             0\n",
       "18  3.095009             0\n",
       "19  2.914590             0\n",
       "20  2.984864             0\n",
       "21  2.979484             0\n",
       "22  3.145427             0"
      ]
     },
     "execution_count": 95,
     "metadata": {},
     "output_type": "execute_result"
    }
   ],
   "source": [
    "# 找出具体的异常值点\n",
    "def get_by_box(data_df, k=1.5, target_columns=None): # 默认异常系数为1.5,找到的即为异常值。也可以定义为3，找到的即为极端异常值。\n",
    "    # 获取统计数据\n",
    "    c = data_df.describe()\n",
    "    # 四分位距IQR\n",
    "    c.loc['IQR']= c.loc['75%']-c.loc['25%']\n",
    "    # 最小估计值\n",
    "    c.loc['LowerLimit'] = c.loc['25%'] - k*c.loc['IQR']\n",
    "    # 最大估计值\n",
    "    c.loc['UpperLimit'] = c.loc['75%'] + k*c.loc['IQR']\n",
    "\n",
    "    target_columns = target_columns if target_columns else c.columns.values.tolist()\n",
    "\n",
    "    #创建一个空的结果集\n",
    "    result_df = pd.DataFrame(columns = target_columns) # 创建一个空的dataframe\n",
    "    for col in target_columns:\n",
    "        for row in range(0, new_test_data_df.size):\n",
    "            result_df.loc[row,col] = 1 if(new_test_data_df.loc[row,col] > c.loc['UpperLimit',col] \n",
    "                                          or new_test_data_df.loc[row,col] < c.loc['LowerLimit',col]) else 0\n",
    "    \n",
    "    result_df.columns = [each+\"_result\" for each in result_df.columns]\n",
    "    return pd.concat([new_test_data_df, result_df], axis=1)\n",
    "\n",
    "result = get_by_box(new_test_data_df)\n",
    "print(\"异常值：\", result[result[\"number_result\"]==1][\"number\"].tolist())\n",
    "result"
   ]
  },
  {
   "cell_type": "code",
   "execution_count": 104,
   "metadata": {},
   "outputs": [
    {
     "name": "stdout",
     "output_type": "stream",
     "text": [
      "[-1  0  0  0  0  0  0  0  0  0  0  0  0 -1  0  0 -1  0  0  0  0  0  0]\n",
      "异常值： [112.0, 628.0, 517.0]\n"
     ]
    }
   ],
   "source": [
    "# 使用密度聚类DBSCAN的方式检测\n",
    "from sklearn.cluster import DBSCAN\n",
    "\n",
    "test_data_dbscan = test_data.copy().reshape(-1,1)\n",
    "outlier_detection = DBSCAN(min_samples=2, eps=3)\n",
    "outlier = outlier_detection.fit_predict(test_data_dbscan)\n",
    "print(outlier)\n",
    "print(\"异常值：\", [test_data_dbscan[idx][0] for idx,each in enumerate(outlier) if each == -1])"
   ]
  },
  {
   "cell_type": "code",
   "execution_count": 129,
   "metadata": {},
   "outputs": [
    {
     "name": "stdout",
     "output_type": "stream",
     "text": [
      "[ 1  1  1  1  1  1  1  1  1  1  1  1  1 -1  1  1 -1  1  1  1  1  1  1]\n",
      "异常值： [628.0, 517.0]\n"
     ]
    }
   ],
   "source": [
    "# 使用OneClassSVM做异常检测\n",
    "from sklearn.svm import OneClassSVM\n",
    "\n",
    "test_data_svm = test_data.copy().reshape(-1,1)\n",
    "outlier_detection = OneClassSVM(nu=0.01)  # nu指定数据集中异常值的近似比率\n",
    "outlier = outlier_detection.fit_predict(test_data_svm)\n",
    "print(outlier)\n",
    "print(\"异常值：\", [test_data_svm[idx][0] for idx,each in enumerate(outlier) if each == -1])"
   ]
  },
  {
   "cell_type": "code",
   "execution_count": 139,
   "metadata": {},
   "outputs": [
    {
     "name": "stdout",
     "output_type": "stream",
     "text": [
      "[-1  1  1  1  1  1  1  1  1  1  1  1  1 -1  1  1 -1  1  1  1  1  1  1]\n",
      "异常值： [112.0, 628.0, 517.0]\n"
     ]
    }
   ],
   "source": [
    "# 使用Robust covariance做异常检测\n",
    "from sklearn.covariance import EllipticEnvelope\n",
    "\n",
    "test_data_covariance = test_data.copy().reshape(-1,1)\n",
    "outlier_detection = EllipticEnvelope(random_state=0)\n",
    "outlier = outlier_detection.fit_predict(test_data_covariance)\n",
    "print(outlier)\n",
    "print(\"异常值：\", [test_data_isolation[idx][0] for idx,each in enumerate(outlier) if each == -1])"
   ]
  },
  {
   "cell_type": "code",
   "execution_count": 114,
   "metadata": {},
   "outputs": [
    {
     "name": "stdout",
     "output_type": "stream",
     "text": [
      "[-1  1  1  1  1  1  1  1  1  1  1  1  1 -1  1  1 -1  1  1  1  1  1  1]\n",
      "异常值： [112.0, 628.0, 517.0]\n"
     ]
    }
   ],
   "source": [
    "# 使用孤立森林的方式做异常检测\n",
    "from sklearn.ensemble import IsolationForest\n",
    "\n",
    "test_data_isolation = test_data.copy().reshape(-1,1)\n",
    "outlier_detection = IsolationForest(contamination=0.1)  # contamination为异常的阈值，会比较大地影响到结果取值\n",
    "outlier = outlier_detection.fit_predict(test_data_isolation)\n",
    "print(outlier)\n",
    "print(\"异常值：\", [test_data_isolation[idx][0] for idx,each in enumerate(outlier) if each == -1])"
   ]
  },
  {
   "cell_type": "code",
   "execution_count": 138,
   "metadata": {},
   "outputs": [
    {
     "name": "stdout",
     "output_type": "stream",
     "text": [
      "[-1  1  1  1  1  1  1  1  1  1  1  1  1 -1  1  1 -1  1  1  1  1  1  1]\n",
      "异常值： [112.0, 628.0, 517.0]\n"
     ]
    }
   ],
   "source": [
    "# 使用LOF的方式做异常检测\n",
    "from sklearn.neighbors import LocalOutlierFactor\n",
    "\n",
    "test_data_lof = test_data.copy().reshape(-1,1)\n",
    "outlier_detection = LocalOutlierFactor(n_neighbors=15)  # n_neighbors 代表的是取的临近点的个数\n",
    "outlier = outlier_detection.fit_predict(test_data_lof)\n",
    "print(outlier)\n",
    "print(\"异常值：\", [test_data_lof[idx][0] for idx,each in enumerate(outlier) if each == -1])"
   ]
  },
  {
   "cell_type": "code",
   "execution_count": 142,
   "metadata": {},
   "outputs": [
    {
     "name": "stdout",
     "output_type": "stream",
     "text": [
      "[1 0 0 0 0 0 0 0 0 0 0 0 0 1 0 0 1 0 0 0 0 0 0]\n",
      "异常值： [112.0, 628.0, 517.0]\n",
      "[0 0 0 0 0 0 0 0 0 1 0 0 0 1 0 0 1 0 0 0 0 0 0]\n",
      "异常值： [3.2240893199201457, 628.0, 517.0]\n"
     ]
    },
    {
     "name": "stderr",
     "output_type": "stream",
     "text": [
      "D:\\software\\Anaconda\\lib\\site-packages\\sklearn\\utils\\deprecation.py:86: FutureWarning: Function fit_predict is deprecated\n",
      "  warnings.warn(msg, category=FutureWarning)\n",
      "D:\\software\\Anaconda\\lib\\site-packages\\sklearn\\utils\\deprecation.py:86: FutureWarning: Function fit_predict is deprecated\n",
      "  warnings.warn(msg, category=FutureWarning)\n"
     ]
    }
   ],
   "source": [
    "# 使用PYOD库来进行异常检测， 这里选择KNN和LOF两种\n",
    "from pyod.models.knn import KNN \n",
    "from pyod.models.lof import LOF\n",
    "\n",
    "test_data_pyod = test_data.copy().reshape(-1,1)\n",
    "outlier_detection = KNN() \n",
    "outlier = outlier_detection.fit_predict(test_data_pyod)\n",
    "print(outlier)\n",
    "print(\"异常值：\", [test_data_pyod[idx][0] for idx,each in enumerate(outlier) if each == 1])\n",
    "\n",
    "outlier_detection = LOF() \n",
    "outlier = outlier_detection.fit_predict(test_data_pyod)\n",
    "print(outlier)\n",
    "print(\"异常值：\", [test_data_pyod[idx][0] for idx,each in enumerate(outlier) if each == 1])"
   ]
  },
  {
   "cell_type": "markdown",
   "metadata": {},
   "source": [
    "# 不平衡数据的处理"
   ]
  },
  {
   "cell_type": "code",
   "execution_count": 47,
   "metadata": {},
   "outputs": [],
   "source": [
    "from sklearn.datasets import make_classification\n",
    "from imblearn.over_sampling import RandomOverSampler\n",
    "from imblearn.under_sampling import RandomUnderSampler\n",
    "from imblearn.over_sampling import SMOTE, BorderlineSMOTE, ADASYN\n",
    "from collections import Counter"
   ]
  },
  {
   "cell_type": "code",
   "execution_count": 43,
   "metadata": {},
   "outputs": [
    {
     "name": "stdout",
     "output_type": "stream",
     "text": [
      "Original dataset shape Counter({1: 90, 0: 10})\n"
     ]
    }
   ],
   "source": [
    "# 先早一些不均衡数据集，这里使用sklearn里现成的make_classification，两类数据，比重1比9，总共一百个样本。\n",
    "X, y = make_classification(n_classes=2, class_sep=2,\n",
    "                           weights=[0.1, 0.9], n_informative=2, n_redundant=0, flip_y=0,\n",
    "                           n_features=2, n_clusters_per_class=1, n_samples=100,random_state=9)\n",
    "print('Original dataset shape %s' % Counter(y))  # Count可以直观统计出y数据的各个类别数量"
   ]
  },
  {
   "cell_type": "code",
   "execution_count": 45,
   "metadata": {},
   "outputs": [
    {
     "name": "stdout",
     "output_type": "stream",
     "text": [
      "Resampled dataset shape Counter({1: 90, 0: 90})\n"
     ]
    }
   ],
   "source": [
    "# 上采样\n",
    "X_data, y_data = X.copy(), y.copy()\n",
    "ros = RandomOverSampler(random_state=0)\n",
    "X_resampled, y_resampled = ros.fit_resample(X_data, y_data)  # 这里是使用的现成的上采样方式，也可以根据真实场景自己实现过采样\n",
    "print('Resampled dataset shape %s' % Counter(y_resampled))"
   ]
  },
  {
   "cell_type": "code",
   "execution_count": 50,
   "metadata": {},
   "outputs": [
    {
     "name": "stdout",
     "output_type": "stream",
     "text": [
      "Resampled dataset shape Counter({0: 10, 1: 10})\n"
     ]
    }
   ],
   "source": [
    "# 下采样\n",
    "X_data, y_data = X.copy(), y.copy()\n",
    "rus = RandomUnderSampler(sampling_strategy={0: 10, 1:10},random_state=0)  # 下采样只能以少量的那个为参考依据了\n",
    "X_resampled, y_resampled = rus.fit_resample(X_data, y_data)\n",
    "print('Resampled dataset shape %s' % Counter(y_resampled))"
   ]
  },
  {
   "cell_type": "code",
   "execution_count": 38,
   "metadata": {},
   "outputs": [
    {
     "name": "stdout",
     "output_type": "stream",
     "text": [
      "Resampled dataset shape Counter({1: 90, 0: 90})\n"
     ]
    }
   ],
   "source": [
    "# SMOTE方式进行生成合成数据\n",
    "X_data, y_data = X.copy(), y.copy()\n",
    "smote = SMOTE(random_state=42)\n",
    "X_resampled, y_resampled = smote.fit_resample(X_data, y_data)\n",
    "print('Resampled dataset shape %s' % Counter(y_resampled))"
   ]
  },
  {
   "cell_type": "code",
   "execution_count": 39,
   "metadata": {},
   "outputs": [
    {
     "name": "stdout",
     "output_type": "stream",
     "text": [
      "Resampled dataset shape Counter({1: 90, 0: 90})\n"
     ]
    }
   ],
   "source": [
    "# BorderlineSMOTE方式进行生成合成数据\n",
    "X_data, y_data = X.copy(), y.copy()\n",
    "sm = BorderlineSMOTE(kind=\"borderline-1\")\n",
    "X_resampled, y_resampled = sm.fit_resample(X_data, y_data)\n",
    "print('Resampled dataset shape %s' % Counter(y_resampled))"
   ]
  },
  {
   "cell_type": "code",
   "execution_count": 40,
   "metadata": {},
   "outputs": [
    {
     "name": "stdout",
     "output_type": "stream",
     "text": [
      "Resampled dataset shape Counter({1: 90, 0: 90})\n"
     ]
    }
   ],
   "source": [
    "# ADASYN方式进行生成合成数据\n",
    "X_data, y_data = X.copy(), y.copy()\n",
    "adasyn = ADASYN(random_state=42)\n",
    "X_resampled, y_resampled = adasyn.fit_resample(X_data, y_data)\n",
    "print('Resampled dataset shape %s' % Counter(y_resampled))"
   ]
  },
  {
   "cell_type": "code",
   "execution_count": null,
   "metadata": {},
   "outputs": [],
   "source": [
    "# 模型上处理：1、Bagging、boosting、stacking思想基本都能比较好兼容及处理不均衡数据\n",
    "#            2、模型中若有class_weight，则可以通过该参数调整，\n",
    "#               比如class_weight={0:1, 1:10}，及设置0类别数据权重为1,1类别数据权重为10\n",
    "#            3、使用模型预测的概率值自己调整阈值，\n",
    "#               示例：\n",
    "#                    pred_proba = clf.predict_proba(testX)[:, 1]    # 这里clf即某种概率模型\n",
    "#                    thresold = 0.75                                # 自定义阈值\n",
    "#                    pred_label = pred_proba > thresold             # 重新定义预测标签，大于阈值的为true，否则为false"
   ]
  },
  {
   "cell_type": "code",
   "execution_count": null,
   "metadata": {},
   "outputs": [],
   "source": []
  },
  {
   "cell_type": "code",
   "execution_count": null,
   "metadata": {},
   "outputs": [],
   "source": []
  }
 ],
 "metadata": {
  "kernelspec": {
   "display_name": "Python 3",
   "language": "python",
   "name": "python3"
  },
  "language_info": {
   "codemirror_mode": {
    "name": "ipython",
    "version": 3
   },
   "file_extension": ".py",
   "mimetype": "text/x-python",
   "name": "python",
   "nbconvert_exporter": "python",
   "pygments_lexer": "ipython3",
   "version": "3.8.5"
  }
 },
 "nbformat": 4,
 "nbformat_minor": 1
}
